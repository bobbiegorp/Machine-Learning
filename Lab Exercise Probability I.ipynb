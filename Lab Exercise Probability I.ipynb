{
 "cells": [
  {
   "cell_type": "code",
   "execution_count": 15,
   "metadata": {},
   "outputs": [
    {
     "name": "stdout",
     "output_type": "stream",
     "text": [
      "Populating the interactive namespace from numpy and matplotlib\n"
     ]
    }
   ],
   "source": [
    "%pylab inline\n",
    "import numpy as np"
   ]
  },
  {
   "cell_type": "markdown",
   "metadata": {},
   "source": [
    "<h3> Throwing a fair dice </h3>\n",
    "<b> 1. </b> <br> $\\Omega$ = {1,2,3,4,5,6} <br> $\\mathcal{F}$ = {$\\emptyset, \\Omega$} <br> $P$ = P({1}) = P({2}) = ... = P({6}) = 1/6 \n",
    "\n",
    "<b> 2. </b> <br> $\\Omega$ = {(1,1), (1,2), (1,3), (1,4), (1,5), (1,6), (2,1), (2,2), (2,3), (2,4), (2,5), (2,6), (3,1), (3,2), (3,3), (3,4), (3,5), (3,6), (4,1), (4,2), (4,3), (4,4), (4,5), (4,6), (5,1), (5,2), (5,3), (5,4), (5,5), (5,6), (6,1), (6,2), (6,3), (6,4), (6,5), (6,6)} <br> $\\mathcal{F}$ = {$\\emptyset, \\Omega$} <br> $P$ = P({(1,1)}) = P({(1,2)}) = ... = P({(1,6)}) = P({(2,1)}) = P({(2,2)}) = ... = P({(2,6)}) = ... P({(6,6)}) = 1/36\n",
    "\n",
    "<b> 3. </b><nbsp> 1/36\n",
    "\n",
    "<b> 4. </b><nbsp> Let E1 = Event of getting 9 points in total in two throws. E1 = {(3,6), (4,5), (5,4), (6,3)} <br>\n",
    "P(E1) = 4 / 36 = 1/9"
   ]
  },
  {
   "cell_type": "markdown",
   "metadata": {},
   "source": [
    "<h3> Venn Diagram </h3>\n",
    "<b>1.</b> Label 1 corresponds to the event $U \\setminus (A\\cup B)$. Label 2 corresponds to the event $A \\setminus (A\\cap B)$. Label 4 corresponds to the event $B \\setminus (A\\cap B)$.\n",
    "\n",
    "<b>2.</b> <br> $P(U \\setminus (A\\cup B)) = 1 - 0.8 = 0.2$ <br> $P(A\\cap B) = (0.5 + 0.7) - 0.8 = 0.4$ <br> $P(A \\setminus (A\\cap B)) = 0.5 - 0.4 = 0.1$ <br> $P(B \\setminus (A\\cap B)) = 0.7 - 0.4 = 0.3$\n"
   ]
  },
  {
   "cell_type": "markdown",
   "metadata": {},
   "source": [
    "<h3> Axioms and Theorems of Probability </h3>\n",
    "\n",
    "<b>1. </b>  "
   ]
  },
  {
   "cell_type": "markdown",
   "metadata": {},
   "source": [
    "<h3> Naive Bayesian Classifier </h3>"
   ]
  },
  {
   "cell_type": "code",
   "execution_count": 71,
   "metadata": {},
   "outputs": [],
   "source": [
    "def learn(filename):\n",
    "    data = np.genfromtxt(filename, skip_header=5, delimiter=\",\", converters={0: lambda x: 1 if int(x[0]) == 70 else 0}, dtype=int)\n",
    "    females, males = [], []\n",
    "    for x in data:\n",
    "        if x[0] == 1:\n",
    "            females.append(x)\n",
    "        else:\n",
    "            males.append(x)\n",
    "            \n",
    "    females, males = np.array(females), np.array(males)\n",
    "    \n",
    "    MFS, MFL, MFW = np.mean(females, axis=0)[3], np.mean(females, axis=0)[2], np.mean(females, axis=0)[1]\n",
    "    MMS, MML, MMW = np.mean(males, axis=0)[3], np.mean(males, axis=0)[2], np.mean(males, axis=0)[1]\n",
    "      \n",
    "    SFS, SFL, SFW = np.std(females, axis=0)[3], np.std(females, axis=0)[2], np.std(females, axis=0)[1]\n",
    "    SMS, SML, SMW = np.std(males, axis=0)[3], np.std(males, axis=0)[2], np.std(males, axis=0)[1]\n",
    "    \n",
    "    return SFL, SFW\n",
    "    "
   ]
  },
  {
   "cell_type": "code",
   "execution_count": 72,
   "metadata": {},
   "outputs": [
    {
     "data": {
      "text/plain": [
       "(6.164414002968976, 13.589211407093005)"
      ]
     },
     "execution_count": 72,
     "metadata": {},
     "output_type": "execute_result"
    }
   ],
   "source": [
    "learn('E:\\Bobbie\\Downloads\\\\biometrie2014.csv')"
   ]
  }
 ],
 "metadata": {
  "kernelspec": {
   "display_name": "Python 3",
   "language": "python",
   "name": "python3"
  },
  "language_info": {
   "codemirror_mode": {
    "name": "ipython",
    "version": 3
   },
   "file_extension": ".py",
   "mimetype": "text/x-python",
   "name": "python",
   "nbconvert_exporter": "python",
   "pygments_lexer": "ipython3",
   "version": "3.6.1"
  }
 },
 "nbformat": 4,
 "nbformat_minor": 2
}
