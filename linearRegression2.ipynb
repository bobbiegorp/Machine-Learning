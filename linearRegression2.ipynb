{
 "cells": [
  {
   "cell_type": "code",
   "execution_count": 1,
   "metadata": {},
   "outputs": [
    {
     "name": "stdout",
     "output_type": "stream",
     "text": [
      "Populating the interactive namespace from numpy and matplotlib\n"
     ]
    }
   ],
   "source": [
    "%pylab inline "
   ]
  },
  {
   "cell_type": "markdown",
   "metadata": {},
   "source": [
    "## Univariate Linear Regression"
   ]
  },
  {
   "cell_type": "markdown",
   "metadata": {},
   "source": [
    "In the previous assignment you implemented the cost function and one step of gradient descent. Now it's time to put your code together and implement to full gradient descent algorithm. Please reuse the implementations of your functions from the previous assignment, but make sure they are correct. \n",
    "\n",
    "Make sure to comment your code!"
   ]
  },
  {
   "cell_type": "code",
   "execution_count": 45,
   "metadata": {},
   "outputs": [],
   "source": [
    "#Make a prediction function h\n",
    "def predict(x,theta):\n",
    "    justones = numpy.ones(x.shape)\n",
    "    xones = (numpy.stack((justones,x), axis=-1))\n",
    "    x_predict = theta@xones.T\n",
    "    return x_predict"
   ]
  },
  {
   "cell_type": "code",
   "execution_count": 46,
   "metadata": {},
   "outputs": [],
   "source": [
    "#Use the output of that function to compute the cost function J:\n",
    "def cost(x_predict,y):\n",
    "    sqerror = (x_predict - y)**2\n",
    "    result = 1/(2 * x.size) * sqerror.sum()\n",
    "    return result"
   ]
  },
  {
   "cell_type": "code",
   "execution_count": 73,
   "metadata": {},
   "outputs": [],
   "source": [
    "#Create a function that returns the gradient values, given h (x_predict), theta, alhpa, y and x:\n",
    "def gradDescentStep(x_predict, theta, alpha, y, x):\n",
    "    costf = x_predict - y\n",
    "    temp0 = theta[0] - alpha * 1/x.size * costf.sum()\n",
    "    costf = (x_predict - y) * x\n",
    "    temp1 = theta[1] - alpha * 1/x.size * costf.sum()\n",
    "    theta = numpy.array([temp0, temp1])\n",
    "    return theta"
   ]
  },
  {
   "cell_type": "code",
   "execution_count": 80,
   "metadata": {},
   "outputs": [
    {
     "data": {
      "image/png": "[encoded data removed]",
      "text/plain": [
       "<matplotlib.figure.Figure at 0x1c65ab9db70>"
      ]
     },
     "metadata": {},
     "output_type": "display_data"
    }
   ],
   "source": [
    "# Repeat the gradient descent step untill it converges.\n",
    "# These are some default parameters, see how playing with them affects the behavior\n",
    "alpha = 0.1\n",
    "theta0 = 0\n",
    "theta1 = 1\n",
    "iterations = 10\n",
    "m = 100;\n",
    "a = 0.5\n",
    "b = 2\n",
    "x = linspace(0,10,m)\n",
    "y = a * x + b + 0.3 * random.randn(m)\n",
    "plot(x, y, 'r+');\n",
    "\n",
    "#Fill in the stopcondition yourself\n",
    "#stopcondition = \n"
   ]
  },
  {
   "cell_type": "code",
   "execution_count": 88,
   "metadata": {},
   "outputs": [
    {
     "name": "stdout",
     "output_type": "stream",
     "text": [
      "[-0.04997873  0.32165353]\n"
     ]
    }
   ],
   "source": [
    "i = 0\n",
    "#cost = 10\n",
    "theta_values = numpy.empty([iterations + 1, 2])\n",
    "theta_values[0, 0], theta_values[0, 1] = theta0, theta1\n",
    "\n",
    "#Try to save the output of the cost function at each iteration and plot it at the end\n",
    "while (i < iterations): #and (cost > stopcondition):\n",
    "    theta_values[i+1] = gradDescentStep(predict(x, theta_values[i]), theta_values[i], alpha, y, x)\n",
    " #gradDescentStep(predict(x, theta_values[i, , theta1), alpha, y, x)[1]\n",
    "    i = i +1\n",
    "    #Put everything together here\n",
    "\n",
    "print(gradDescentStep(predict(x, theta_values[0]), theta_values[0], alpha, y, x))\n",
    "#print(theta_values)\n",
    "    \n",
    "#plt.plot(x,predict(x,theta0,theta1))\n",
    "#plt.plot(x,y,'o')\n",
    "#plt.show()"
   ]
  },
  {
   "cell_type": "markdown",
   "metadata": {},
   "source": [
    "## Analysis\n",
    "\n",
    "Write a short analysis about the amount of iterations necessary to obtain a good result, the influence of the learning rate and the trend of the cost function. "
   ]
  },
  {
   "cell_type": "markdown",
   "metadata": {},
   "source": [
    "# Bonus Problem: Implement Least Squares with closed form solution\n",
    "\n",
    "For the Least Squares method there is also a closed-form solution.\n",
    "\n",
    "$\\theta_1$ can be found by:\n",
    "$$ \\boldsymbol{\\hat\\theta_1} =( X ^TX)^{-1}X^{T}\\boldsymbol y $$\n",
    "\n",
    "You can leave $\\theta_0$ to be 0. Make a plot with your data as dots and your prediction as a line."
   ]
  }
 ],
 "metadata": {
  "kernelspec": {
   "display_name": "Python 3",
   "language": "python",
   "name": "python3"
  },
  "language_info": {
   "codemirror_mode": {
    "name": "ipython",
    "version": 3
   },
   "file_extension": ".py",
   "mimetype": "text/x-python",
   "name": "python",
   "nbconvert_exporter": "python",
   "pygments_lexer": "ipython3",
   "version": "3.6.1"
  }
 },
 "nbformat": 4,
 "nbformat_minor": 1
}
