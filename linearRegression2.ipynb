{
 "cells": [
  {
   "cell_type": "code",
   "execution_count": 193,
   "metadata": {},
   "outputs": [
    {
     "name": "stdout",
     "output_type": "stream",
     "text": [
      "Populating the interactive namespace from numpy and matplotlib\n"
     ]
    }
   ],
   "source": [
    "%pylab inline "
   ]
  },
  {
   "cell_type": "markdown",
   "metadata": {},
   "source": [
    "## Univariate Linear Regression"
   ]
  },
  {
   "cell_type": "markdown",
   "metadata": {},
   "source": [
    "In the previous assignment you implemented the cost function and one step of gradient descent. Now it's time to put your code together and implement to full gradient descent algorithm. Please reuse the implementations of your functions from the previous assignment, but make sure they are correct. \n",
    "\n",
    "Make sure to comment your code!"
   ]
  },
  {
   "cell_type": "code",
   "execution_count": 194,
   "metadata": {
    "collapsed": true
   },
   "outputs": [],
   "source": [
    "#Make a prediction function h\n",
    "#Theta is a vector of theta0 and theta1\n",
    "def predict(x, theta):\n",
    "    x_predict = theta[0] + theta[1]*x\n",
    "    return x_predict"
   ]
  },
  {
   "cell_type": "code",
   "execution_count": 195,
   "metadata": {
    "collapsed": true
   },
   "outputs": [],
   "source": [
    "#Use the output of that function to compute the cost function J:\n",
    "def cost(x_predict,y):\n",
    "    sqerror = (x_predict - y)**2\n",
    "    result = 1/(2 * x.size) * sqerror.sum()\n",
    "    return result"
   ]
  },
  {
   "cell_type": "code",
   "execution_count": 196,
   "metadata": {
    "collapsed": true
   },
   "outputs": [],
   "source": [
    "#Create a function that returns the derivatives of the cost function for the different thetas\n",
    "# given h (x_predict), theta, alhpa, y and x:\n",
    "def gradDescentStep(x_predict, y, x):\n",
    "    dtheta0 = (x_predict - y).sum() / x.size\n",
    "    dtheta1 = ((x_predict - y) * x).sum() / x.size\n",
    "    return (dtheta0, dtheta1)"
   ]
  },
  {
   "cell_type": "code",
   "execution_count": 197,
   "metadata": {},
   "outputs": [],
   "source": [
    "#Set a number of default parameters (learning rate, number of iterations, theta)\n",
    "alpha = 0.01\n",
    "iterations = 1000\n",
    "theta = numpy.array([0, 1]) #sets theta0 to 0 and theta1 to 1\n",
    "\n",
    "#Fill in the stopcondition yourself\n",
    "stopcondition = 0\n",
    "\n",
    "#Generate the data\n",
    "a = 0.5\n",
    "b = 2\n",
    "m = 100\n",
    "x = linspace(0,10,m)\n",
    "y = a * x + b + 0.3 * random.randn(m)\n"
   ]
  },
  {
   "cell_type": "code",
   "execution_count": 198,
   "metadata": {},
   "outputs": [
    {
     "name": "stdout",
     "output_type": "stream",
     "text": [
      "[ 1.82896645  0.5176467 ]\n"
     ]
    },
    {
     "data": {
      "image/png": "[encoded data removed]",
      "text/plain": [
       "<matplotlib.figure.Figure at 0x1d51d634fd0>"
      ]
     },
     "metadata": {},
     "output_type": "display_data"
    },
    {
     "name": "stdout",
     "output_type": "stream",
     "text": [
      "0.053755830473\n"
     ]
    }
   ],
   "source": [
    "#Create empty array for all the theta values that will be generated after each step\n",
    "theta_values = numpy.empty([iterations + 1, 2])\n",
    "#Set the first row equal to the initial theta set in the cell above\n",
    "theta_values[0] = theta\n",
    "#Set variable named costc to the cost with these initial theta values\n",
    "costc = cost(predict(x, theta_values[0]), y)\n",
    "\n",
    "#Loop a number of times (set in iterations) or until the cost is smaller or equal to the stopcondition set above\n",
    "i = 0\n",
    "while (i < iterations) and (costc > stopcondition):\n",
    "    #Get the derivatives from the gradDescentStep function\n",
    "    dthetas = gradDescentStep(predict(x, theta_values[i]), y, x)\n",
    "    \n",
    "    #Update the theta values using these derivatives, the learning rate alpha and the previous value of that theta\n",
    "    theta0 = theta_values[i, 0] - alpha * dthetas[0]\n",
    "    theta1 = theta_values[i, 1] - alpha * dthetas[1]\n",
    "    theta_values[i+1] = numpy.array([theta0, theta1])\n",
    "    \n",
    "    #Set the costc variable equal to the cost with the new theta values\n",
    "    costc = cost(predict(x, theta_values[i+1]), y)\n",
    "    i = i + 1\n",
    "\n",
    "#Print the values of the final thetas after all of the iterations\n",
    "print(theta_values[iterations])\n",
    "\n",
    "#Plot the data and the hypothesis function using the final thetas of the previous line\n",
    "plt.plot(x,predict(x,theta_values[iterations]))\n",
    "plt.plot(x,y,'o')\n",
    "plt.show()\n",
    "\n",
    "#Print the cost of the hypothesis with the final thetas\n",
    "print(costc)\n",
    "\n",
    "#The history of theta values can be seen in the theta_values matrix"
   ]
  },
  {
   "cell_type": "markdown",
   "metadata": {},
   "source": [
    "## Analysis\n",
    "\n",
    "Write a short analysis about the amount of iterations necessary to obtain a good result, the influence of the learning rate and the trend of the cost function. "
   ]
  },
  {
   "cell_type": "markdown",
   "metadata": {},
   "source": [
    "# Bonus Problem: Implement Least Squares with closed form solution\n",
    "\n",
    "For the Least Squares method there is also a closed-form solution.\n",
    "\n",
    "$\\theta_1$ can be found by:\n",
    "$$ \\boldsymbol{\\hat\\theta_1} =( X ^TX)^{-1}X^{T}\\boldsymbol y $$\n",
    "\n",
    "You can leave $\\theta_0$ to be 0. Make a plot with your data as dots and your prediction as a line."
   ]
  }
 ],
 "metadata": {
  "kernelspec": {
   "display_name": "Python 3",
   "language": "python",
   "name": "python3"
  },
  "language_info": {
   "codemirror_mode": {
    "name": "ipython",
    "version": 3
   },
   "file_extension": ".py",
   "mimetype": "text/x-python",
   "name": "python",
   "nbconvert_exporter": "python",
   "pygments_lexer": "ipython3",
   "version": "3.6.1"
  }
 },
 "nbformat": 4,
 "nbformat_minor": 1
}
