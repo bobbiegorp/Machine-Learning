{
 "cells": [
  {
   "cell_type": "markdown",
   "metadata": {},
   "source": [
    "# AUC ML LabExercise - k-means\n",
    "### Ungraded exercise, deadline Friday, November 24, 23:59.\n",
    "\n",
    "In this ungraded assignment you will cluster hand-written digits using k-means. This is an unsupervised method and will therefore differ a bit from the previous assignments. \n",
    "You will also have to analyse the behavior of K-means for different parameter settings and initializations.\n",
    "\n",
    "The assignment follows Andrew Ng's explanation of K-means and (re)watching his videos could be useful.\n",
    "\n",
    "Publish your notebook (ipynb file) to your repository on Github. If you have any questions, please email me and don't forget to commit the most recent version of you assignment on Github so that I can see your code.\n",
    "\n",
    "Note: all code should be clear, add comments where necessary (especially if your code is not straightforward). You are free to discuss the assignment among each other, but stick to sharing ideas, not code.\n",
    "\n"
   ]
  },
  {
   "cell_type": "code",
   "execution_count": 1,
   "metadata": {
    "collapsed": false
   },
   "outputs": [
    {
     "name": "stdout",
     "output_type": "stream",
     "text": [
      "Populating the interactive namespace from numpy and matplotlib\n"
     ]
    }
   ],
   "source": [
    "%pylab inline"
   ]
  },
  {
   "cell_type": "markdown",
   "metadata": {},
   "source": [
    "The dataset is the same as with logistic regression. However, you don't need to use the class labels as K-means is an unsupervised method."
   ]
  },
  {
   "cell_type": "markdown",
   "metadata": {},
   "source": [
    "## Visualize functions\n",
    "\n",
    "In order to make it more visible what K-means is learning, we provide two visualization functions. The first function takes the assignment of each digit to each cluster and shows what the digits of the cluster looks like. If your algorithm works well then the digits should look alike!\n",
    "\n",
    "The second function visualizes the actual cluster centroids. It is expected that you see something that resembles the original digit, but don't be surprised if one of the results is a combination, e.g. a zero and eight at the same time.\n",
    "\n",
    "K-means is a very simple algorithm and is not likely to get an optimal result, therefore some of the centroids will be just noise. "
   ]
  },
  {
   "cell_type": "code",
   "execution_count": 2,
   "metadata": {
    "collapsed": true
   },
   "outputs": [],
   "source": [
    "#With below code you can visualize the data clusters\n",
    "#The input is a vector c (with all the datapoints assigned to a cluster)\n",
    "#this function will show a bunch of numbers assigned to that cluster.\n",
    "#It will skip the cluster if there are not enough images in it.\n",
    "\n",
    "#You can use this code after you have finished implementing everything!\n",
    "def visualize(best_c):\n",
    "    for i in range(10):\n",
    "        print(\"There are \", sum(c == i), \" elements in cluster \", i)\n",
    "    \n",
    "    for cluster in range(10):\n",
    "        #Create two rows with numbers\n",
    "        filtered = digits.images[c == cluster,:,:]\n",
    "\n",
    "        if filtered.shape[0] < 5:\n",
    "            print(\"not enough items in cluster \", cluster)\n",
    "            continue\n",
    "\n",
    "        rows = floor(filtered.shape[0]/10)\n",
    "        image_rows = []\n",
    "\n",
    "        for i in range(min(5,int(rows))):\n",
    "            image_row = hstack(filtered[i*10:(i+1)*10,:,:])\n",
    "            image_rows.append(image_row)\n",
    "\n",
    "        gray()\n",
    "        axis('off')\n",
    "\n",
    "        #Show both rows at the same time\n",
    "        imshow(vstack(image_rows))\n",
    "        show()\n",
    "\n",
    "        print(\"The cluster shown above is: \", cluster)"
   ]
  },
  {
   "cell_type": "code",
   "execution_count": 3,
   "metadata": {
    "collapsed": true
   },
   "outputs": [],
   "source": [
    "# This function visualizes the centroids. \n",
    "# It takes as input the matrix mu with the cluster centroids and shows an image.\n",
    "\n",
    "#You can use this code after you have finished implementing everything!\n",
    "def visualize_centroids(best_mu):\n",
    "    mu = best_mu.T.reshape(10,8,8)\n",
    "    \n",
    "    #Create two rows with numbers\n",
    "    firstrow = hstack(mu[:5,:,:])\n",
    "    secondrow = hstack(mu[5:,:,:])\n",
    "\n",
    "    gray()\n",
    "    axis('off')\n",
    "\n",
    "    #Show both rows at the same time\n",
    "    imshow(vstack((firstrow,secondrow)))"
   ]
  },
  {
   "cell_type": "markdown",
   "metadata": {},
   "source": [
    "## The implementation\n",
    "\n",
    "You have to implement the next three functions in order to create a correct implementation of k-means. The body of the loop is implemented for your, study it first to understand which parameters you are passing to your functions and what your functions should return. \n",
    "Please follow Andrew Ng's description and the instructions that come with the functions closely. \n",
    "\n",
    "\n"
   ]
  },
  {
   "cell_type": "code",
   "execution_count": 4,
   "metadata": {
    "collapsed": true
   },
   "outputs": [],
   "source": [
    "#First write a function that takes as input 1 image x and all the cluster centroids mu. \n",
    "#It returns a number that is the closest centroid (index of the closest centroid)\n",
    "def compute_centroid(x,mu):\n",
    "    #mu will be of size 64 by k\n",
    "    #x will be of size 64 (need to reshape to 64 by 1!)\n",
    "    #You can subtract x from mu, and numpy will \"broadcast\" over the columns, result is 64 by k\n",
    "    #Then you can take the norm over the columns (give option axis = 0)\n",
    "    #return the index of the closest\n",
    "    x = reshape(x,(64,1))\n",
    "    distances = norm(mu-x, axis=0)\n",
    "    c = argmin(distances)\n",
    "    return c"
   ]
  },
  {
   "cell_type": "code",
   "execution_count": 5,
   "metadata": {
    "collapsed": true
   },
   "outputs": [],
   "source": [
    "# Second write a function that returns an updated mu matrix for a specific cluster number \n",
    "# It takes as input:\n",
    "# - a cluster number (for which we want to update the centriod)\n",
    "# - all cluster centroids mu\n",
    "# - all the datapoints assigned to that cluster\n",
    "# It returns an updated mu matrix for that cluster number\n",
    "def update_centroid(centroid, mu, X_c):\n",
    "    #you have to average over the columns in X_c and change only 1 specific column in mu\n",
    "    mu[:,centroid] = mean(X_c, axis=0)\n",
    "    return mu\n"
   ]
  },
  {
   "cell_type": "code",
   "execution_count": 6,
   "metadata": {
    "collapsed": true
   },
   "outputs": [],
   "source": [
    "#Now write the cost function. This will be exactly the same as the compute_centroid\n",
    "#However it will return the actual minimum and not the index of the centroid\n",
    "def cost_function(x,mu):\n",
    "    x = reshape(x,(64,1))\n",
    "    distances = norm(mu-x, axis=0)\n",
    "    cost = min(distances)\n",
    "    return cost"
   ]
  },
  {
   "cell_type": "code",
   "execution_count": 7,
   "metadata": {
    "collapsed": false
   },
   "outputs": [
    {
     "name": "stdout",
     "output_type": "stream",
     "text": [
      "There are  120  elements in cluster  0\n",
      "There are  223  elements in cluster  1\n",
      "There are  180  elements in cluster  2\n",
      "There are  404  elements in cluster  3\n",
      "There are  164  elements in cluster  4\n",
      "There are  150  elements in cluster  5\n",
      "There are  179  elements in cluster  6\n",
      "There are  106  elements in cluster  7\n",
      "There are  183  elements in cluster  8\n",
      "There are  88  elements in cluster  9\n"
     ]
    },
    {
     "data": {
      "image/png": "[encoded data removed]",
      "text/plain": [
       "<matplotlib.figure.Figure at 0x17b731fc160>"
      ]
     },
     "metadata": {},
     "output_type": "display_data"
    },
    {
     "name": "stdout",
     "output_type": "stream",
     "text": [
      "The cluster shown above is:  0\n"
     ]
    },
    {
     "data": {
      "image/png": "[encoded data removed]",
      "text/plain": [
       "<matplotlib.figure.Figure at 0x17b73fa0da0>"
      ]
     },
     "metadata": {},
     "output_type": "display_data"
    },
    {
     "name": "stdout",
     "output_type": "stream",
     "text": [
      "The cluster shown above is:  1\n"
     ]
    },
    {
     "data": {
      "image/png": "[encoded data removed]",
      "text/plain": [
       "<matplotlib.figure.Figure at 0x17b73f327f0>"
      ]
     },
     "metadata": {},
     "output_type": "display_data"
    },
    {
     "name": "stdout",
     "output_type": "stream",
     "text": [
      "The cluster shown above is:  2\n"
     ]
    },
    {
     "data": {
      "image/png": "[encoded data removed]",
      "text/plain": [
       "<matplotlib.figure.Figure at 0x17b73ff9e10>"
      ]
     },
     "metadata": {},
     "output_type": "display_data"
    },
    {
     "name": "stdout",
     "output_type": "stream",
     "text": [
      "The cluster shown above is:  3\n"
     ]
    },
    {
     "data": {
      "image/png": "[encoded data removed]",
      "text/plain": [
       "<matplotlib.figure.Figure at 0x17b7412f978>"
      ]
     },
     "metadata": {},
     "output_type": "display_data"
    },
    {
     "name": "stdout",
     "output_type": "stream",
     "text": [
      "The cluster shown above is:  4\n"
     ]
    },
    {
     "data": {
      "image/png": "[encoded data removed]",
      "text/plain": [
       "<matplotlib.figure.Figure at 0x17b7429cb70>"
      ]
     },
     "metadata": {},
     "output_type": "display_data"
    },
    {
     "name": "stdout",
     "output_type": "stream",
     "text": [
      "The cluster shown above is:  5\n"
     ]
    },
    {
     "data": {
      "image/png": "[encoded data removed]",
      "text/plain": [
       "<matplotlib.figure.Figure at 0x17b7446ef98>"
      ]
     },
     "metadata": {},
     "output_type": "display_data"
    },
    {
     "name": "stdout",
     "output_type": "stream",
     "text": [
      "The cluster shown above is:  6\n"
     ]
    },
    {
     "data": {
      "image/png": "[encoded data removed]",
      "text/plain": [
       "<matplotlib.figure.Figure at 0x17b7446ea58>"
      ]
     },
     "metadata": {},
     "output_type": "display_data"
    },
    {
     "name": "stdout",
     "output_type": "stream",
     "text": [
      "The cluster shown above is:  7\n"
     ]
    },
    {
     "data": {
      "image/png": "[encoded data removed]",
      "text/plain": [
       "<matplotlib.figure.Figure at 0x17b740ac780>"
      ]
     },
     "metadata": {},
     "output_type": "display_data"
    },
    {
     "name": "stdout",
     "output_type": "stream",
     "text": [
      "The cluster shown above is:  8\n"
     ]
    },
    {
     "data": {
      "image/png": "[encoded data removed]",
      "text/plain": [
       "<matplotlib.figure.Figure at 0x17b742afc88>"
      ]
     },
     "metadata": {},
     "output_type": "display_data"
    },
    {
     "name": "stdout",
     "output_type": "stream",
     "text": [
      "The cluster shown above is:  9\n",
      "10 Centroids of my clusters: \n"
     ]
    },
    {
     "data": {
      "image/png": "[encoded data removed]",
      "text/plain": [
       "<matplotlib.figure.Figure at 0x17b74181da0>"
      ]
     },
     "metadata": {},
     "output_type": "display_data"
    }
   ],
   "source": [
    "#The main loop implementig the k-means algortihm\n",
    "from sklearn.datasets import load_digits\n",
    "\n",
    "#load data\n",
    "digits = load_digits(n_class=10)\n",
    "x = reshape(digits.images,(1797,64))\n",
    "#x_test = reshape(digits.images[1500:],(297,64))\n",
    "\n",
    "#get amount of examples and features\n",
    "n = x.shape[0]\n",
    "f = x.shape[1]\n",
    "\n",
    "#The amount of initializations (use high number to avoid local optima) and iterations \n",
    "initialisation_iterations = 10\n",
    "iterations = 50\n",
    "\n",
    "#define the amount of clusters k\n",
    "k = 10\n",
    "\n",
    "#The code below constists of three layers of loops:\n",
    "#The first loop is for different initialisations of mu\n",
    "#The second loop is for the amount of iterations of the k means algorithm\n",
    "#The third layer actually consists of two loops:\n",
    "    #Loop 1 updates the centroid of all the clusters\n",
    "    #Loop 2 assigns a new cluster to each datapoint\n",
    "\n",
    "    \n",
    "#initialize best_cost to 'inf' so no other number can be higher\n",
    "best_cost = float(\"inf\")\n",
    "\n",
    "for h in range(initialisation_iterations):\n",
    "    #mu is the centroid matrix, initialized by sampling from a uniform distribution (shape is f=64 by k=10!)\n",
    "    mu = random.uniform(0,16,(f,k))\n",
    "    \n",
    "    #c is the vector that assigns each digit to a centroid\n",
    "    #initialized with integers between 0 and k=10, the shape is n=1797 by nothing\n",
    "    c = random.randint(0,k,(n))\n",
    "    cost = 0\n",
    "    for j in range(iterations):\n",
    "        #update the centroid of all the clusters\n",
    "        for i in range(k):\n",
    "            X_c = x[where(c==i)]\n",
    "            mu = update_centroid(i,mu,X_c)\n",
    "        #assign a new cluster to each datapoint and update cost\n",
    "        for i in range(x.shape[0]):\n",
    "            c[i] = compute_centroid(x[i,:],mu)\n",
    "            cost += cost_function(x[i,:],mu)\n",
    "    #only update if there is improvement\n",
    "    if cost < best_cost:\n",
    "        best_mu = mu\n",
    "        best_cost = cost\n",
    "        best_c = c\n",
    "\n",
    "\n",
    "# Visualize\n",
    "visualize(best_c)\n",
    "\n",
    "\n",
    "print(\"10 Centroids of my clusters: \")\n",
    "visualize_centroids(best_mu)"
   ]
  },
  {
   "cell_type": "markdown",
   "metadata": {},
   "source": [
    "## Bonus\n",
    "\n",
    "There is a special \"trick\" you can do to make sure all clusters are used. You can do this by initializing the cluster centroids as the first ten digits. Luckily, the dataset x has as first 10 elements the first 10 digits.\n",
    "\n",
    "Take the code with the three loops, remove the outer loop since you already know the \"best\" initialization and use the below line of code to initialize mu.\n",
    "\n",
    "To show:\n",
    "- Visualize the resulting centroids (Do they still resemble the digits?)\n",
    "- Plot the cost over iterations and compare this to the original initialization\n",
    "\n"
   ]
  },
  {
   "cell_type": "code",
   "execution_count": 53,
   "metadata": {
    "collapsed": true
   },
   "outputs": [],
   "source": [
    "#You should initialize mu as:\n",
    "mu = x[:10,:].T"
   ]
  }
 ],
 "metadata": {
  "kernelspec": {
   "display_name": "Python 3",
   "language": "python",
   "name": "python3"
  },
  "language_info": {
   "codemirror_mode": {
    "name": "ipython",
    "version": 3
   },
   "file_extension": ".py",
   "mimetype": "text/x-python",
   "name": "python",
   "nbconvert_exporter": "python",
   "pygments_lexer": "ipython3",
   "version": "3.6.0"
  }
 },
 "nbformat": 4,
 "nbformat_minor": 1
}
