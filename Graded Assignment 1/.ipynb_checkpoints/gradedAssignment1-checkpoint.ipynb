{
 "cells": [
  {
   "cell_type": "markdown",
   "metadata": {
    "raw_mimetype": "text/markdown"
   },
   "source": [
    "# Graded Lab Assignment: Logistic Regression (10 points)\n",
    "\n",
    "In this assignment you will classify hand-written digits using logistic regression.\n",
    "\n",
    "The assignment follows Andrew Ng's explanation of Logistic Regression and (re)watching his videos could be useful (Week 3)\n",
    "\n",
    "Publish your notebook (ipynb file) to your Machine Learning repository on Github ON TIME. We will check the last commit on the day of the deadline. \n",
    "\n",
    "### Deadline Tuesday, October 10th, 23:59\n",
    "\n",
    "Do not hand in any other files, the Notebook should contain all your answers.\n",
    "\n",
    "The points for the assignment are distributed as follows:\n",
    "* The implementation\n",
    "    - prediction_function (0.5)\n",
    "    - cost_function (1)\n",
    "    - compute_gradient (1)\n",
    "    - correct double for loop (2)\n",
    "    - correct stop condition (0.5)\n",
    "    - preventing overfitting (1)\n",
    "    - systematically choosing learning rate (1) \n",
    "    - best score analysis (1)\n",
    "    - summary (1)\n",
    "    - comments (0.5)\n",
    "    - code (0.5)\n",
    "    "
   ]
  },
  {
   "cell_type": "code",
   "execution_count": 1,
   "metadata": {},
   "outputs": [
    {
     "name": "stdout",
     "output_type": "stream",
     "text": [
      "Populating the interactive namespace from numpy and matplotlib\n"
     ]
    }
   ],
   "source": [
    "%pylab inline"
   ]
  },
  {
   "cell_type": "markdown",
   "metadata": {},
   "source": [
    "Scikit-learn is a toolkit that has several datasets built in. You first need to install the toolkit: http://scikit-learn.org/stable/install.html\n",
    "\n",
    "The MNIST dataset that you will be using for this assignment contains images of hand-written digits that are only 8 by 8 pixels, which means the algorithm (logistic regression) should run on every computer.\n",
    "\n",
    "The code in the cell below shows how to work with the digits dataset and  how to visualize it. As you can see the numbers are not very clear in 8x8 pixels images, this means we cannot expect our logistic regression will have a very high classification score."
   ]
  },
  {
   "cell_type": "code",
   "execution_count": 2,
   "metadata": {},
   "outputs": [
    {
     "name": "stdout",
     "output_type": "stream",
     "text": [
      "The numbers shown are: \n",
      " [[0 1 2 3 4]\n",
      " [5 6 7 8 9]]\n"
     ]
    },
    {
     "data": {
      "image/png": "[encoded data removed]",
      "text/plain": [
       "<matplotlib.figure.Figure at 0x1cf5c30da20>"
      ]
     },
     "metadata": {},
     "output_type": "display_data"
    }
   ],
   "source": [
    "from sklearn.datasets import load_digits\n",
    "\n",
    "digits = load_digits(n_class=10)\n",
    "\n",
    "#Create two rows with numbers\n",
    "firstrow = np.hstack(digits.images[:5,:,:])\n",
    "secondrow = np.hstack(digits.images[5:10,:,:])\n",
    "\n",
    "plt.gray()\n",
    "plt.axis('off')\n",
    "\n",
    "#Show both rows at the same time\n",
    "plt.imshow(np.vstack((firstrow,secondrow)))\n",
    "\n",
    "print(\"The numbers shown are: \\n\", np.vstack((digits.target[:5], digits.target[5:10])))"
   ]
  },
  {
   "cell_type": "markdown",
   "metadata": {},
   "source": [
    "## The implementation\n",
    "\n",
    "You have to implement the next three functions and fill in the body of the loop in order to create a correct implementation of logistic regression. Don't change the definitions of the functions and input parameters.\n",
    "\n",
    "(1) Make sure that you do not overfit by keeping track of the score on the test set and implementing a correct stop condition. \n",
    "(2) Systematically pick a learning rate alpha that makes sure the algorithm learns in a smooth and stable manner (show how you do it). \n",
    "(3) Plot how your score on the test set improves over time. My best score was about 85% correct!\n",
    "(4) Write a short summary of what you have done (and why) to accomplish steps (1), (2) and (3).\n",
    "(5) Make sure to comment your code!"
   ]
  },
  {
   "cell_type": "code",
   "execution_count": 170,
   "metadata": {
    "collapsed": true
   },
   "outputs": [],
   "source": [
    "#Make a prediction function h\n",
    "def prediction_function(x,theta):\n",
    "    xones = np.insert(x, 0, 1, axis=1)\n",
    "    h = 1 / (1 + exp(- theta@xones.T))\n",
    "    return h"
   ]
  },
  {
   "cell_type": "code",
   "execution_count": 148,
   "metadata": {
    "collapsed": true
   },
   "outputs": [],
   "source": [
    "#Use the output of that function to compute the cost function J:\n",
    "def cost_function(x_predict,y):     \n",
    "    cost = (-1 / y.size) * (y * log(x_predict) + (1 - y) * log(1 - x_predict)).sum()\n",
    "    return cost"
   ]
  },
  {
   "cell_type": "code",
   "execution_count": 178,
   "metadata": {
    "collapsed": true
   },
   "outputs": [],
   "source": [
    "#Create a function that returns the gradient values, given h (x_predict), y and x:\n",
    "def compute_gradient(x_predict, y, x):\n",
    "    xones = np.insert(x, 0, 1, axis=1)\n",
    "    gradient = 1 / y.size * xones.T@(x_predict - y)\n",
    "    return gradient"
   ]
  },
  {
   "cell_type": "code",
   "execution_count": 195,
   "metadata": {},
   "outputs": [
    {
     "name": "stdout",
     "output_type": "stream",
     "text": [
      "[  0.   0.   7.   8.  13.  16.  15.   1.   0.   0.   7.   7.   4.  11.  12.\n",
      "   0.   0.   0.   0.   0.   8.  13.   1.   0.   0.   4.   8.   8.  15.  15.\n",
      "   6.   0.   0.   2.  11.  15.  15.   4.   0.   0.   0.   0.   0.  16.   5.\n",
      "   0.   0.   0.   0.   0.   9.  15.   1.   0.   0.   0.   0.   0.  13.   5.\n",
      "   0.   0.   0.   0.]\n"
     ]
    },
    {
     "ename": "IndexError",
     "evalue": "axis 1 is out of bounds for an array of dimension 1",
     "output_type": "error",
     "traceback": [
      "\u001b[1;31m---------------------------------------------------------------------------\u001b[0m",
      "\u001b[1;31mIndexError\u001b[0m                                Traceback (most recent call last)",
      "\u001b[1;32m<ipython-input-195-6f34a45aefe5>\u001b[0m in \u001b[0;36m<module>\u001b[1;34m()\u001b[0m\n\u001b[0;32m     26\u001b[0m \u001b[1;32mfor\u001b[0m \u001b[0mi\u001b[0m \u001b[1;32min\u001b[0m \u001b[0mrange\u001b[0m\u001b[1;33m(\u001b[0m\u001b[0miterations\u001b[0m\u001b[1;33m)\u001b[0m\u001b[1;33m:\u001b[0m\u001b[1;33m\u001b[0m\u001b[0m\n\u001b[0;32m     27\u001b[0m        \u001b[1;32mfor\u001b[0m \u001b[0mj\u001b[0m \u001b[1;32min\u001b[0m \u001b[0mrange\u001b[0m\u001b[1;33m(\u001b[0m\u001b[0mx\u001b[0m\u001b[1;33m.\u001b[0m\u001b[0mshape\u001b[0m\u001b[1;33m[\u001b[0m\u001b[1;36m0\u001b[0m\u001b[1;33m]\u001b[0m\u001b[1;33m)\u001b[0m\u001b[1;33m:\u001b[0m\u001b[1;33m\u001b[0m\u001b[0m\n\u001b[1;32m---> 28\u001b[1;33m             \u001b[0mx_predict\u001b[0m \u001b[1;33m=\u001b[0m \u001b[0mprediction_function\u001b[0m\u001b[1;33m(\u001b[0m\u001b[0mx\u001b[0m\u001b[1;33m[\u001b[0m\u001b[0mj\u001b[0m\u001b[1;33m,\u001b[0m\u001b[1;33m:\u001b[0m\u001b[1;33m]\u001b[0m\u001b[1;33m.\u001b[0m\u001b[0mT\u001b[0m\u001b[1;33m,\u001b[0m\u001b[0mtheta\u001b[0m\u001b[1;33m)\u001b[0m\u001b[1;33m\u001b[0m\u001b[0m\n\u001b[0m\u001b[0;32m     29\u001b[0m             \u001b[0my\u001b[0m \u001b[1;33m=\u001b[0m \u001b[0mnp\u001b[0m\u001b[1;33m.\u001b[0m\u001b[0mzeros\u001b[0m\u001b[1;33m(\u001b[0m\u001b[1;36m10\u001b[0m\u001b[1;33m)\u001b[0m\u001b[1;33m\u001b[0m\u001b[0m\n\u001b[0;32m     30\u001b[0m             \u001b[0my\u001b[0m\u001b[1;33m[\u001b[0m\u001b[0mtarget\u001b[0m\u001b[1;33m[\u001b[0m\u001b[0mj\u001b[0m\u001b[1;33m]\u001b[0m\u001b[1;33m]\u001b[0m \u001b[1;33m=\u001b[0m \u001b[1;36m1\u001b[0m\u001b[1;33m\u001b[0m\u001b[0m\n",
      "\u001b[1;32m<ipython-input-170-9dfd4ce63ff3>\u001b[0m in \u001b[0;36mprediction_function\u001b[1;34m(x, theta)\u001b[0m\n\u001b[0;32m      1\u001b[0m \u001b[1;31m#Make a prediction function h\u001b[0m\u001b[1;33m\u001b[0m\u001b[1;33m\u001b[0m\u001b[0m\n\u001b[0;32m      2\u001b[0m \u001b[1;32mdef\u001b[0m \u001b[0mprediction_function\u001b[0m\u001b[1;33m(\u001b[0m\u001b[0mx\u001b[0m\u001b[1;33m,\u001b[0m\u001b[0mtheta\u001b[0m\u001b[1;33m)\u001b[0m\u001b[1;33m:\u001b[0m\u001b[1;33m\u001b[0m\u001b[0m\n\u001b[1;32m----> 3\u001b[1;33m     \u001b[0mxones\u001b[0m \u001b[1;33m=\u001b[0m \u001b[0mnp\u001b[0m\u001b[1;33m.\u001b[0m\u001b[0minsert\u001b[0m\u001b[1;33m(\u001b[0m\u001b[0mx\u001b[0m\u001b[1;33m,\u001b[0m \u001b[1;36m0\u001b[0m\u001b[1;33m,\u001b[0m \u001b[1;36m1\u001b[0m\u001b[1;33m,\u001b[0m \u001b[0maxis\u001b[0m\u001b[1;33m=\u001b[0m\u001b[1;36m1\u001b[0m\u001b[1;33m)\u001b[0m\u001b[1;33m\u001b[0m\u001b[0m\n\u001b[0m\u001b[0;32m      4\u001b[0m     \u001b[0mh\u001b[0m \u001b[1;33m=\u001b[0m \u001b[1;36m1\u001b[0m \u001b[1;33m/\u001b[0m \u001b[1;33m(\u001b[0m\u001b[1;36m1\u001b[0m \u001b[1;33m+\u001b[0m \u001b[0mexp\u001b[0m\u001b[1;33m(\u001b[0m\u001b[1;33m-\u001b[0m \u001b[0mtheta\u001b[0m\u001b[1;33m@\u001b[0m\u001b[0mxones\u001b[0m\u001b[1;33m.\u001b[0m\u001b[0mT\u001b[0m\u001b[1;33m)\u001b[0m\u001b[1;33m)\u001b[0m\u001b[1;33m\u001b[0m\u001b[0m\n\u001b[0;32m      5\u001b[0m     \u001b[1;32mreturn\u001b[0m \u001b[0mh\u001b[0m\u001b[1;33m\u001b[0m\u001b[0m\n",
      "\u001b[1;32mE:\\Bobbie\\Anaconda3\\lib\\site-packages\\numpy\\lib\\function_base.py\u001b[0m in \u001b[0;36minsert\u001b[1;34m(arr, obj, values, axis)\u001b[0m\n\u001b[0;32m   4845\u001b[0m             raise IndexError(\n\u001b[0;32m   4846\u001b[0m                 \u001b[1;34m\"axis %i is out of bounds for an array of \"\u001b[0m\u001b[1;33m\u001b[0m\u001b[0m\n\u001b[1;32m-> 4847\u001b[1;33m                 \"dimension %i\" % (axis, ndim))\n\u001b[0m\u001b[0;32m   4848\u001b[0m         \u001b[1;32mif\u001b[0m \u001b[1;33m(\u001b[0m\u001b[0maxis\u001b[0m \u001b[1;33m<\u001b[0m \u001b[1;36m0\u001b[0m\u001b[1;33m)\u001b[0m\u001b[1;33m:\u001b[0m\u001b[1;33m\u001b[0m\u001b[0m\n\u001b[0;32m   4849\u001b[0m             \u001b[0maxis\u001b[0m \u001b[1;33m+=\u001b[0m \u001b[0mndim\u001b[0m\u001b[1;33m\u001b[0m\u001b[0m\n",
      "\u001b[1;31mIndexError\u001b[0m: axis 1 is out of bounds for an array of dimension 1"
     ]
    }
   ],
   "source": [
    "#Choose a suitable learning rate\n",
    "alpha = 0.01 \n",
    "iterations = 25\n",
    "stopcondition = 0.0001\n",
    "#theta = np.zeros((64,10))\n",
    "theta = np.zeros(65)\n",
    "cost = []\n",
    "\n",
    "#i = 0\n",
    "#while i < iterations and cost > stopcondition:\n",
    "#    gradients = compute_gradient(prediction_function(x, theta), y, x)\n",
    "#    cost = cost_function(prediction_function(x, theta), y)\n",
    "#    theta = theta - alpha * gradients\n",
    "#    print(cost)\n",
    "#    i += 1\n",
    "\n",
    "print(x[7,:])\n",
    "    \n",
    "#It is important to check that you're not overfitting by testing your prediction on a testset\n",
    "x = np.reshape(digits.images[:1500],(1500,64))\n",
    "x_test = np.reshape(digits.images[1500:],(297,64))\n",
    "\n",
    "target = digits.target[:1500]\n",
    "target_test = digits.target[1500:]\n",
    "\n",
    "for i in range(iterations):\n",
    "       for j in range(x.shape[0]):\n",
    "            x_predict = prediction_function(x[j,:].T, theta)\n",
    "            y = np.zeros(10)\n",
    "            y[target[j]] = 1\n",
    "            \n",
    "        cost.append(cost_function(x_predict,y))\n",
    "    \n",
    "# #In Andrew Ng's presentation he says that y needs to be 1 or 0.\n",
    "# #You can use the following example code in the inner loop of your implementation\n",
    "# y = np.zeros(10) #First create a y vector with only zeros\n",
    "# y[target[j]] = 1 #Then set the right class equal to 1"
   ]
  },
  {
   "cell_type": "code",
   "execution_count": 184,
   "metadata": {},
   "outputs": [
    {
     "name": "stdout",
     "output_type": "stream",
     "text": [
      "[ -5.00000000e-01   0.00000000e+00  -1.51333333e-01  -2.61233333e+00\n",
      "  -5.88966667e+00  -5.95200000e+00  -2.94800000e+00  -7.22000000e-01\n",
      "  -7.13333333e-02  -3.33333333e-03  -1.01000000e+00  -5.21433333e+00\n",
      "  -5.92400000e+00  -5.13366667e+00  -4.15566667e+00  -9.46333333e-01\n",
      "  -5.76666667e-02  -1.66666667e-03  -1.34466667e+00  -4.97200000e+00\n",
      "  -3.36300000e+00  -3.49533333e+00  -3.88466667e+00  -9.16666667e-01\n",
      "  -2.76666667e-02  -6.66666667e-04  -1.26066667e+00  -4.52533333e+00\n",
      "  -4.30833333e+00  -4.97633333e+00  -3.74033333e+00  -1.15000000e+00\n",
      "  -1.33333333e-03   0.00000000e+00  -1.14800000e+00  -3.76933333e+00\n",
      "  -4.46366667e+00  -5.12500000e+00  -4.40966667e+00  -1.47566667e+00\n",
      "   0.00000000e+00  -4.33333333e-03  -7.83666667e-01  -3.40200000e+00\n",
      "  -3.48000000e+00  -3.72066667e+00  -4.09600000e+00  -1.81233333e+00\n",
      "  -1.50000000e-02  -4.33333333e-03  -3.63000000e-01  -3.79000000e+00\n",
      "  -4.68133333e+00  -4.57866667e+00  -4.37566667e+00  -1.94066667e+00\n",
      "  -1.12666667e-01  -3.33333333e-04  -1.38666667e-01  -2.78933333e+00\n",
      "  -6.06800000e+00  -6.01933333e+00  -3.54166667e+00  -1.13433333e+00\n",
      "  -2.11333333e-01]\n"
     ]
    }
   ],
   "source": [
    "#prediction_function(x[0,:], array([1.77511774, 0.5365127]))\n",
    "\n",
    "#x_predict = array([0.1, 0.1, 0.1, 0.1, 0.1])\n",
    "#y = ones(5)\n",
    "#x = array([5, 13, 9, 1, 0])\n",
    "print(compute_gradient(x_predict, y, x))\n",
    "#xones = numpy.stack((numpy.ones(x.shape[0]).T,x), axis=1)\n",
    "#xones = np.insert(x, 0, 1, axis=1)\n",
    "#print(x)\n",
    "#print(xones.shape)\n",
    "\n"
   ]
  },
  {
   "cell_type": "code",
   "execution_count": 176,
   "metadata": {},
   "outputs": [
    {
     "name": "stdout",
     "output_type": "stream",
     "text": [
      "[ 0.5  0.5  0.5 ...,  0.5  0.5  0.5]\n"
     ]
    }
   ],
   "source": [
    "#x_predict = prediction_function(x, array(\n",
    "#    [0.001, 0.001, 0.001, 0.001,  0.001,\n",
    "#        0.001, 0.001, 0.001, 0.001,  0.001,\n",
    "#        0.001, 0.001, 0.001, 0.001,  0.001,\n",
    "#        0.001, 0.001, 0.001, 0.001,  0.001,\n",
    "#        0.001, 0.001, 0.001, 0.001,  0.001,\n",
    "#        0.001, 0.001, 0.001, 0.001,  0.001,\n",
    " #       0.001, 0.001, 0.001, 0.001,  0.001,\n",
    " #       0.001, 0.001, 0.001, 0.001,  0.001,\n",
    " #       0.001, 0.001, 0.001, 0.001,  0.001,\n",
    " #       0.001, 0.001, 0.001, 0.001,  0.001,\n",
    " ##       0.001, 0.001, 0.001, 0.001,  0.001,\n",
    " #       0.001, 0.001, 0.001, 0.001,  0.001,\n",
    " #       0.001, 0.001, 0.001, 0.001,  0.001]))\n",
    "    \n",
    "x_predict = prediction_function(x, array(\n",
    "    [0, 0, 0, 0,  0,\n",
    "        0, 0, 0, 0,  0,\n",
    "        0, 0, 0, 0,  0,\n",
    "        0, 0, 0, 0,  0,\n",
    "        0, 0, 0, 0,  0,\n",
    "        0, 0, 0, 0,  0,\n",
    "        0, 0, 0, 0,  0,\n",
    "        0, 0, 0, 0,  0,\n",
    "        0, 0, 0, 0,  0,\n",
    "        0, 0, 0, 0,  0,\n",
    "        0, 0, 0, 0,  0,\n",
    "        0, 0, 0, 0,  0,\n",
    "        0, 0, 0, 0,  0]))\n",
    "print(x_predict)"
   ]
  },
  {
   "cell_type": "code",
   "execution_count": 181,
   "metadata": {},
   "outputs": [
    {
     "data": {
      "text/plain": [
       "0.69314718055994529"
      ]
     },
     "execution_count": 181,
     "metadata": {},
     "output_type": "execute_result"
    }
   ],
   "source": [
    "y = ones(1500)\n",
    "cost_function(x_predict, ones(1500))\n"
   ]
  }
 ],
 "metadata": {
  "anaconda-cloud": {},
  "celltoolbar": "Raw Cell Format",
  "kernelspec": {
   "display_name": "Python 3",
   "language": "python",
   "name": "python3"
  },
  "language_info": {
   "codemirror_mode": {
    "name": "ipython",
    "version": 3
   },
   "file_extension": ".py",
   "mimetype": "text/x-python",
   "name": "python",
   "nbconvert_exporter": "python",
   "pygments_lexer": "ipython3",
   "version": "3.6.1"
  }
 },
 "nbformat": 4,
 "nbformat_minor": 1
}
