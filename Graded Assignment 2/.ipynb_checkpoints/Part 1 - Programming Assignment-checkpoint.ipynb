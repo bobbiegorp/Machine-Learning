{
 "cells": [
  {
   "cell_type": "markdown",
   "metadata": {},
   "source": [
    "# Graded Lab Assignment 2: Evaluate classifiers (10 points)\n",
    " \n",
    "In this assignment you will optimize and compare the perfomance of a parametric (logistic regression) and non-parametric (k-nearest neighbours) classifier on the MNIST dataset.\n",
    "\n",
    "Publish your notebook (ipynb file) to your Machine Learning repository on Github ON TIME. We will check the last commit on the day of the deadline.  \n",
    "\n",
    "### Deadline Friday, November 17, 23:59.\n",
    "\n",
    "This notebook consists of three parts: design, implementation, results & analysis. \n",
    "We provide you with the design of the experiment and you have to implement it and analyse the results.\n",
    "\n",
    "### Criteria used for grading\n",
    "* Explain and analyse all results.\n",
    "* Make your notebook easy to read. When you are finished take your time to review it!\n",
    "* You do not want to repeat the same chunks of code multiply times. If your need to do so, write a function. \n",
    "* The implementation part of this assignment needs careful design before you start coding. You could start by writing pseudocode.\n",
    "* In this exercise the insights are important. Do not hide them somewhere in the comments in the implementation, but put them in the Analysis part\n",
    "* Take care that all the figures and tables are well labeled and numbered so that you can easily refer to them.\n",
    "* A plot should have a title and axes labels.\n",
    "* You may find that not everything is 100% specified in this assignment. That is correct! Like in real life you probably have to make some choices. Motivate your choices.\n"
   ]
  },
  {
   "cell_type": "markdown",
   "metadata": {},
   "source": [
    "### Grading points distribution\n",
    "\n",
    "* Implementation 5 points\n",
    "* Results and analysis 5 points"
   ]
  },
  {
   "cell_type": "markdown",
   "metadata": {},
   "source": [
    "## Design of the experiment"
   ]
  },
  {
   "cell_type": "markdown",
   "metadata": {},
   "source": [
    "You do not have to keep the order of this design and are allowed to alter it if you are confident.\n",
    "* Import all necessary modules. Try to use as much of the available functions as possible. \n",
    "* Use the provided train and test set of MNIST dataset.\n",
    "* Pre-process data eg. normalize/standardize, reformat, etc.           \n",
    "  Do whatever you think is necessary and motivate your choices.\n",
    "* (1) Train logistic regression and k-nn using default settings.\n",
    "* Use 10-fold cross validation for each classifier to optimize the performance for one parameter: \n",
    "    * consult the documentation on how cross validation works in sklearn (important functions:             cross_val_score(), GridSearchCV()).\n",
    "    * Optimize k for k-nn,\n",
    "    * for logistic regression focus on the regularization parameter,\n",
    "* (2) Train logistic regression and k-nn using optimized parameters.\n",
    "* Show performance on the cross-validation set for (1) and (2) for both classifiers: \n",
    "    * report the average cross validation error rates (alternatively, the average accuracies - it's up to you) and standard deviation,\n",
    "    * plot the average cross valildation errors (or accuracies) for different values of the parameter that you tuned. \n",
    "* Compare performance on the test set for two classifiers:\n",
    "    * produce the classification report for both classifiers, consisting of precision, recall, f1-score. Explain and analyse the results.\n",
    "    * print confusion matrix for both classifiers and compare whether they missclassify the same  classes. Explain and analyse the results.\n",
    "* Discuss your results.\n",
    "* BONUS: only continue with this part if you are confident that your implemention is complete \n",
    "    * tune more parameters of logistic regression\n",
    "    * add additional classifiers (NN, Naive Bayes, decision tree), \n",
    "    * analyse additional dataset (ex. Iris dataset)"
   ]
  },
  {
   "cell_type": "markdown",
   "metadata": {},
   "source": [
    "## Implementation of the experiment"
   ]
  },
  {
   "cell_type": "code",
   "execution_count": 1,
   "metadata": {},
   "outputs": [
    {
     "name": "stdout",
     "output_type": "stream",
     "text": [
      "Populating the interactive namespace from numpy and matplotlib\n"
     ]
    }
   ],
   "source": [
    "%pylab inline"
   ]
  },
  {
   "cell_type": "code",
   "execution_count": 40,
   "metadata": {
    "collapsed": true
   },
   "outputs": [],
   "source": [
    "from sklearn.datasets import load_digits\n",
    "# load mnist dataset and split in train and test set.\n",
    "digits = load_digits()\n",
    "X_train_mnist = reshape(digits.images[:1500],(1500,64))\n",
    "X_test_mnist = reshape(digits.images[1500:],(297,64))\n",
    "y_train_mnist = digits.target[:1500]\n",
    "y_test_mnist = digits.target[1500:]\n",
    "\n",
    "# your implementation here\n",
    "from sklearn.model_selection import train_test_split #to split in train and cv\n",
    "from sklearn.model_selection import cross_val_score #for cross validation\n",
    "from sklearn.model_selection import GridSearchCV #for optimization using cv\n",
    "from sklearn.preprocessing import StandardScaler #for scaling\n",
    "from sklearn.linear_model import LogisticRegression #logistic regression classifier\n",
    "from sklearn.neighbors import KNeighborsClassifier\n",
    "from sklearn.metrics import classification_report, accuracy_score, confusion_matrix # for reporting\n",
    "from scipy.spatial import distance #to calculate the Euclidean distance\n",
    "from collections import Counter #to do majority voting\n",
    "\n",
    "scaler = StandardScaler()\n",
    "scaler.fit(X_train_mnist)\n",
    "X_train_mnist = scaler.transform(X_train_mnist)\n"
   ]
  },
  {
   "cell_type": "code",
   "execution_count": 34,
   "metadata": {},
   "outputs": [
    {
     "name": "stdout",
     "output_type": "stream",
     "text": [
      "0.943464257824\n",
      "0.961582938171\n"
     ]
    }
   ],
   "source": [
    "# Using the default parameters\n",
    "crossval_accuracy_lr = cross_val_score(LogisticRegression(), X_train_mnist, y_train_mnist, cv=10)\n",
    "print(crossval_accuracy_lr.mean())\n",
    "\n",
    "crossval_accuracy_nn = cross_val_score(KNeighborsClassifier(), X_train_mnist, y_train_mnist, cv=10)\n",
    "print(crossval_accuracy_nn.mean())"
   ]
  },
  {
   "cell_type": "code",
   "execution_count": 35,
   "metadata": {},
   "outputs": [],
   "source": [
    "# Optimize the parameters\n",
    "\n",
    "param_grid_regularization = [{'C': [0.01, 0.1, 0.5, 1, 3, 5, 7, 10, 50, 100, 1000]}]\n",
    "\n",
    "GS_LR = GridSearchCV(LogisticRegression(), param_grid_regularization, cv=10)\n",
    "GS_LR.fit(X_train_mnist, y_train_mnist)\n",
    "OptimizedRegularization = GS_LR.best_params_\n",
    "\n",
    "results_param_lr = GS_LR.cv_results_['mean_test_score']\n",
    "\n",
    "\n",
    "param_grid_k = [{'n_neighbors': [2, 3, 4, 5, 6, 7, 8, 9, 11, 13, 15]}]\n",
    "\n",
    "GS_NN = GridSearchCV(KNeighborsClassifier(), param_grid_k, cv=10)\n",
    "GS_NN.fit(X_train_mnist, y_train_mnist)\n",
    "OptimizedK = GS_NN.best_params_\n",
    "\n",
    "results_param_nn = GS_NN.cv_results_['mean_test_score']\n"
   ]
  },
  {
   "cell_type": "code",
   "execution_count": 36,
   "metadata": {},
   "outputs": [
    {
     "name": "stdout",
     "output_type": "stream",
     "text": [
      "For Linear Regression, using C = 5: \n",
      "Accuracy: 0.9475, Standard Deviation: 0.01826 \n",
      "\n",
      "For K Nearest Neighbors, using K = 3: \n",
      "Accuracy: 0.9615, Standard Deviation: 0.02252\n"
     ]
    }
   ],
   "source": [
    "# Train using the optimized parameters\n",
    "crossval_accuracy_lr = cross_val_score(LogisticRegression(C=OptimizedRegularization['C']), X_train_mnist, y_train_mnist, cv=10)\n",
    "print('For Linear Regression, using C = {:d}: \\nAccuracy: {:6.4f}, Standard Deviation: {:7.5f} \\n'.format(OptimizedRegularization['C'],crossval_accuracy_lr.mean(), crossval_accuracy_lr.std()))\n",
    "\n",
    "crossval_accuracy_nn = cross_val_score(KNeighborsClassifier(n_neighbors=OptimizedK['n_neighbors']), X_train_mnist, y_train_mnist, cv=10)\n",
    "print('For K Nearest Neighbors, using K = {:d}: \\nAccuracy: {:6.4f}, Standard Deviation: {:7.5f}'.format(OptimizedK['n_neighbors'], crossval_accuracy_nn.mean(), crossval_accuracy_nn.std()))"
   ]
  },
  {
   "cell_type": "code",
   "execution_count": 6,
   "metadata": {},
   "outputs": [],
   "source": [
    "# Plots of different values for C and K\n",
    "\n",
    "#Values_lr = np.logspace(-5, 5, num=11, base=10)\n",
    "\n",
    "#for i in Values_lr:\n",
    "#    cv_score_lr = cross_val_score(LogisticRegression(C=i), X_train_mnist, y_train_mnist, cv=10)\n",
    "#    scores_lr.append(cv_score_lr.mean())\n",
    "\n",
    "    \n",
    "#Values_nn = np.logspace(0, 10, num=11, base=2).astype(int)\n",
    "\n",
    "#for i in Values_nn:\n",
    "#    cv_score_nn = cross_val_score(KNeighborsClassifier(n_neighbors=i), X_train_mnist, y_train_mnist, cv=10)\n",
    "#    scores_nn.append(cv_score_nn.mean())"
   ]
  },
  {
   "cell_type": "code",
   "execution_count": 37,
   "metadata": {},
   "outputs": [
    {
     "data": {
      "image/png": "[encoded data removed]",
      "text/plain": [
       "<matplotlib.figure.Figure at 0x2ca967140b8>"
      ]
     },
     "metadata": {},
     "output_type": "display_data"
    },
    {
     "data": {
      "image/png": "[encoded data removed]",
      "text/plain": [
       "<matplotlib.figure.Figure at 0x2ca968edcf8>"
      ]
     },
     "metadata": {},
     "output_type": "display_data"
    }
   ],
   "source": [
    "plt.figure(1, figsize=(5, 5))\n",
    "\n",
    "plt.subplot(211)\n",
    "plt.clf()\n",
    "plt.semilogx(param_grid_regularization[0]['C'], results_param_lr)\n",
    "locs, labels = plt.yticks()\n",
    "plt.yticks(locs, list(map(lambda x: \"%g\" % x, locs)))\n",
    "plt.ylabel('CV score')\n",
    "plt.xlabel('Parameter C')\n",
    "plt.title('Logistic Regression', fontsize=12)\n",
    "plt.show()\n",
    "\n",
    "plt.subplot(212)\n",
    "plt.clf()\n",
    "plt.plot(param_grid_k[0]['n_neighbors'], results_param_nn)\n",
    "locs, labels = plt.yticks()\n",
    "plt.yticks(locs, list(map(lambda x: \"%g\" % x, locs)))\n",
    "plt.ylabel('CV score')\n",
    "plt.xlabel('K (number of neighbors)')\n",
    "plt.title('K Nearest Neighbors', fontsize=12)\n",
    "plt.show()"
   ]
  },
  {
   "cell_type": "markdown",
   "metadata": {},
   "source": [
    "## Results and analysis of the experiment"
   ]
  },
  {
   "cell_type": "code",
   "execution_count": 42,
   "metadata": {},
   "outputs": [
    {
     "name": "stdout",
     "output_type": "stream",
     "text": [
      "A detailed classification report for the Logistic Regression classifier: \n",
      "\n",
      "             precision    recall  f1-score   support\n",
      "\n",
      "          0       1.00      0.85      0.92        27\n",
      "          1       0.67      0.84      0.74        31\n",
      "          2       1.00      1.00      1.00        27\n",
      "          3       1.00      0.37      0.54        30\n",
      "          4       1.00      0.79      0.88        33\n",
      "          5       1.00      0.90      0.95        30\n",
      "          6       0.90      0.90      0.90        30\n",
      "          7       1.00      0.70      0.82        30\n",
      "          8       0.38      0.93      0.54        28\n",
      "          9       1.00      0.81      0.89        31\n",
      "\n",
      "avg / total       0.90      0.80      0.82       297\n",
      "\n",
      "A detailed classification report for the K Nearest Neighbor classifier: \n",
      "\n",
      "             precision    recall  f1-score   support\n",
      "\n",
      "          0       0.96      1.00      0.98        27\n",
      "          1       0.31      1.00      0.47        31\n",
      "          2       1.00      0.81      0.90        27\n",
      "          3       1.00      0.43      0.60        30\n",
      "          4       1.00      0.88      0.94        33\n",
      "          5       0.95      0.67      0.78        30\n",
      "          6       0.89      0.80      0.84        30\n",
      "          7       0.93      0.47      0.62        30\n",
      "          8       0.50      0.39      0.44        28\n",
      "          9       1.00      0.61      0.76        31\n",
      "\n",
      "avg / total       0.85      0.71      0.73       297\n",
      "\n"
     ]
    }
   ],
   "source": [
    "h = LogisticRegression(C=OptimizedRegularization['C'])\n",
    "h.fit(X_train_mnist, y_train_mnist)\n",
    "predictions_lr = h.predict(X_test_mnist)\n",
    "\n",
    "target_names = ['0', '1', '2', '3', '4', '5', '6', '7', '8', '9']\n",
    "\n",
    "report_lr = classification_report(y_test_mnist, predictions_lr, target_names=target_names)\n",
    "print('A detailed classification report for the Logistic Regression classifier: \\n\\n' + report_lr)\n",
    "\n",
    "nn = KNeighborsClassifier(n_neighbors=OptimizedK['n_neighbors'])\n",
    "nn.fit(X_train_mnist, y_train_mnist)\n",
    "predictions_nn = nn.predict(X_test_mnist)\n",
    "\n",
    "report_nn = classification_report(y_test_mnist, predictions_nn, target_names=target_names)\n",
    "print('A detailed classification report for the K Nearest Neighbor classifier: \\n\\n' + report_nn)"
   ]
  },
  {
   "cell_type": "code",
   "execution_count": 49,
   "metadata": {},
   "outputs": [
    {
     "name": "stdout",
     "output_type": "stream",
     "text": [
      "[[23  0  0  0  0  0  3  0  1  0]\n",
      " [ 0 26  0  0  0  0  0  0  5  0]\n",
      " [ 0  0 27  0  0  0  0  0  0  0]\n",
      " [ 0  3  0 11  0  0  0  0 16  0]\n",
      " [ 0  2  0  0 26  0  0  0  5  0]\n",
      " [ 0  2  0  0  0 27  0  0  1  0]\n",
      " [ 0  1  0  0  0  0 27  0  2  0]\n",
      " [ 0  1  0  0  0  0  0 21  8  0]\n",
      " [ 0  2  0  0  0  0  0  0 26  0]\n",
      " [ 0  2  0  0  0  0  0  0  4 25]]\n",
      "[[27  0  0  0  0  0  0  0  0  0]\n",
      " [ 0 31  0  0  0  0  0  0  0  0]\n",
      " [ 1  3 22  0  0  0  0  0  1  0]\n",
      " [ 0 15  0 13  0  0  1  0  1  0]\n",
      " [ 0  4  0  0 29  0  0  0  0  0]\n",
      " [ 0  6  0  0  0 20  2  0  2  0]\n",
      " [ 0  6  0  0  0  0 24  0  0  0]\n",
      " [ 0 15  0  0  0  0  0 14  1  0]\n",
      " [ 0 17  0  0  0  0  0  0 11  0]\n",
      " [ 0  4  0  0  0  1  0  1  6 19]]\n"
     ]
    }
   ],
   "source": [
    "# Confusion matrices\n",
    "conf_matrix_lr = confusion_matrix(y_test_mnist, predictions_lr)\n",
    "print(conf_matrix_lr)\n",
    "\n",
    "conf_matrix_nn = confusion_matrix(y_test_mnist, predictions_nn)\n",
    "print(conf_matrix_nn)"
   ]
  }
 ],
 "metadata": {
  "kernelspec": {
   "display_name": "Python 3",
   "language": "python",
   "name": "python3"
  },
  "language_info": {
   "codemirror_mode": {
    "name": "ipython",
    "version": 3
   },
   "file_extension": ".py",
   "mimetype": "text/x-python",
   "name": "python",
   "nbconvert_exporter": "python",
   "pygments_lexer": "ipython3",
   "version": "3.6.1"
  }
 },
 "nbformat": 4,
 "nbformat_minor": 2
}
