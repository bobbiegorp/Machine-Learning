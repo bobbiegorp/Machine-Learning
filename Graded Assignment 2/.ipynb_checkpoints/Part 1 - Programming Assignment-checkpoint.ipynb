{
 "cells": [
  {
   "cell_type": "markdown",
   "metadata": {},
   "source": [
    "# Graded Lab Assignment 2: Evaluate classifiers (10 points)\n",
    " \n",
    "In this assignment you will optimize and compare the perfomance of a parametric (logistic regression) and non-parametric (k-nearest neighbours) classifier on the MNIST dataset.\n",
    "\n",
    "Publish your notebook (ipynb file) to your Machine Learning repository on Github ON TIME. We will check the last commit on the day of the deadline.  \n",
    "\n",
    "### Deadline Friday, November 17, 23:59.\n",
    "\n",
    "This notebook consists of three parts: design, implementation, results & analysis. \n",
    "We provide you with the design of the experiment and you have to implement it and analyse the results.\n",
    "\n",
    "### Criteria used for grading\n",
    "* Explain and analyse all results.\n",
    "* Make your notebook easy to read. When you are finished take your time to review it!\n",
    "* You do not want to repeat the same chunks of code multiply times. If your need to do so, write a function. \n",
    "* The implementation part of this assignment needs careful design before you start coding. You could start by writing pseudocode.\n",
    "* In this exercise the insights are important. Do not hide them somewhere in the comments in the implementation, but put them in the Analysis part\n",
    "* Take care that all the figures and tables are well labeled and numbered so that you can easily refer to them.\n",
    "* A plot should have a title and axes labels.\n",
    "* You may find that not everything is 100% specified in this assignment. That is correct! Like in real life you probably have to make some choices. Motivate your choices.\n"
   ]
  },
  {
   "cell_type": "markdown",
   "metadata": {},
   "source": [
    "### Grading points distribution\n",
    "\n",
    "* Implementation 5 points\n",
    "* Results and analysis 5 points"
   ]
  },
  {
   "cell_type": "markdown",
   "metadata": {},
   "source": [
    "## Design of the experiment"
   ]
  },
  {
   "cell_type": "markdown",
   "metadata": {},
   "source": [
    "You do not have to keep the order of this design and are allowed to alter it if you are confident.\n",
    "* Import all necessary modules. Try to use as much of the available functions as possible. \n",
    "* Use the provided train and test set of MNIST dataset.\n",
    "* Pre-process data eg. normalize/standardize, reformat, etc.           \n",
    "  Do whatever you think is necessary and motivate your choices.\n",
    "* (1) Train logistic regression and k-nn using default settings.\n",
    "* Use 10-fold cross validation for each classifier to optimize the performance for one parameter: \n",
    "    * consult the documentation on how cross validation works in sklearn (important functions:             cross_val_score(), GridSearchCV()).\n",
    "    * Optimize k for k-nn,\n",
    "    * for logistic regression focus on the regularization parameter,\n",
    "* (2) Train logistic regression and k-nn using optimized parameters.\n",
    "* Show performance on the cross-validation set for (1) and (2) for both classifiers: \n",
    "    * report the average cross validation error rates (alternatively, the average accuracies - it's up to you) and standard deviation,\n",
    "    * plot the average cross valildation errors (or accuracies) for different values of the parameter that you tuned. \n",
    "* Compare performance on the test set for two classifiers:\n",
    "    * produce the classification report for both classifiers, consisting of precision, recall, f1-score. Explain and analyse the results.\n",
    "    * print confusion matrix for both classifiers and compare whether they missclassify the same  classes. Explain and analyse the results.\n",
    "* Discuss your results.\n",
    "* BONUS: only continue with this part if you are confident that your implemention is complete \n",
    "    * tune more parameters of logistic regression\n",
    "    * add additional classifiers (NN, Naive Bayes, decision tree), \n",
    "    * analyse additional dataset (ex. Iris dataset)"
   ]
  },
  {
   "cell_type": "markdown",
   "metadata": {},
   "source": [
    "## Implementation of the experiment"
   ]
  },
  {
   "cell_type": "code",
   "execution_count": 180,
   "metadata": {},
   "outputs": [
    {
     "name": "stdout",
     "output_type": "stream",
     "text": [
      "Populating the interactive namespace from numpy and matplotlib\n"
     ]
    }
   ],
   "source": [
    "%pylab inline\n",
    "\n",
    "# There is not a clear results & analysis section in this file, as the results and analyses of \n",
    "# the different classifiers are shown throughout the notebook"
   ]
  },
  {
   "cell_type": "code",
   "execution_count": 181,
   "metadata": {
    "collapsed": true
   },
   "outputs": [],
   "source": [
    "# Import the necessary modules\n",
    "from sklearn.model_selection import cross_val_score, GridSearchCV, train_test_split\n",
    "from sklearn.neural_network import MLPClassifier\n",
    "from sklearn.preprocessing import StandardScaler \n",
    "from sklearn.linear_model import LogisticRegression\n",
    "from sklearn.naive_bayes import GaussianNB\n",
    "from sklearn.neighbors import KNeighborsClassifier\n",
    "from sklearn.metrics import classification_report, accuracy_score, confusion_matrix\n",
    "from sklearn.tree import DecisionTreeClassifier\n",
    "from sklearn import datasets"
   ]
  },
  {
   "cell_type": "markdown",
   "metadata": {},
   "source": [
    "<h2> MAIN FUNCTION </h2>"
   ]
  },
  {
   "cell_type": "code",
   "execution_count": 182,
   "metadata": {
    "collapsed": true
   },
   "outputs": [],
   "source": [
    "def predict_and_plot(model, name, parameter, parametergrid, xtrain, ytrain, xtest, ytest, target_names):\n",
    "    # Use gridsearch with 10 fold cv to find the optimal values for 'parameter' of the classifier 'model'\n",
    "    gridsearch = GridSearchCV(model, parametergrid, cv=10)\n",
    "    gridsearch.fit(xtrain, ytrain)\n",
    "    optimized = gridsearch.best_params_[parameter]\n",
    "    mean_test_scores = gridsearch.cv_results_['mean_test_score']\n",
    "    \n",
    "    # Plot the tested parameters in the parameter grid against their outcomes in mean_test_scores \n",
    "    plt.figure(figsize=(5, 5))\n",
    "    plt.clf()\n",
    "    # Special case for the hidden_layer_sizes parameter since the values are tuples\n",
    "    if parameter == 'hidden_layer_sizes':\n",
    "        plt.semilogx([i[0] for i in parametergrid[0]['hidden_layer_sizes']], mean_test_scores, basex=4)\n",
    "    else:\n",
    "        plt.plot(parametergrid[0][parameter], mean_test_scores)\n",
    "    locs, labels = plt.yticks()\n",
    "    plt.yticks(locs, list(map(lambda x: \"%g\" % x, locs)))\n",
    "    plt.ylabel('CV score')\n",
    "    plt.xlabel(parameter)\n",
    "    plt.title(name, fontsize=12)\n",
    "    plt.show()\n",
    "    \n",
    "    # Predict the values of xtest using the optimized parameter and print the accuracy and report\n",
    "    predictions = gridsearch.predict(xtest)\n",
    "    report = classification_report(ytest, predictions, target_names=target_names)\n",
    "    print('The accuracy score for the ' + name + ' classifier is ' + str(accuracy_score(ytest, predictions)))\n",
    "    print('\\nA detailed classification report for ' + name + ' with ' + parameter + ' = ' + str(optimized) + ':\\n\\n' + report)\n",
    "    \n",
    "    #return the optimal value for the parameter and the classifier's prediction for xtest \n",
    "    return (optimized, predictions)"
   ]
  },
  {
   "cell_type": "markdown",
   "metadata": {},
   "source": [
    "<h2> THE MNIST DATASET </h2>"
   ]
  },
  {
   "cell_type": "code",
   "execution_count": 183,
   "metadata": {
    "collapsed": true
   },
   "outputs": [],
   "source": [
    "# Load mnist dataset and split in train and test set.\n",
    "digits = datasets.load_digits()\n",
    "X_train_mnist_nn = reshape(digits.images[:1500],(1500,64))\n",
    "X_test_mnist_nn = reshape(digits.images[1500:],(297,64))\n",
    "y_train_mnist = digits.target[:1500]\n",
    "y_test_mnist = digits.target[1500:]\n",
    "\n",
    "# Normalize the dataset in order to speed up (some of) the classifiers\n",
    "scaler = StandardScaler()\n",
    "scaler.fit(X_train_mnist)\n",
    "X_train_mnist = scaler.transform(X_train_mnist)\n",
    "scaler.fit(X_test_mnist)\n",
    "X_test_mnist = scaler.transform(X_test_mnist)\n",
    "\n",
    "# Set the names for the classes\n",
    "target_names = ['0', '1', '2', '3', '4', '5', '6', '7', '8', '9']"
   ]
  },
  {
   "cell_type": "code",
   "execution_count": 184,
   "metadata": {},
   "outputs": [
    {
     "name": "stdout",
     "output_type": "stream",
     "text": [
      "0.943464257824\n",
      "0.961582938171\n"
     ]
    }
   ],
   "source": [
    "# Cross validation scores using the default parameters\n",
    "crossval_accuracy_lr = cross_val_score(LogisticRegression(), X_train_mnist, y_train_mnist, cv=10)\n",
    "print(crossval_accuracy_lr.mean())\n",
    "\n",
    "crossval_accuracy_nn = cross_val_score(KNeighborsClassifier(), X_train_mnist, y_train_mnist, cv=10)\n",
    "print(crossval_accuracy_nn.mean())"
   ]
  },
  {
   "cell_type": "code",
   "execution_count": 185,
   "metadata": {},
   "outputs": [
    {
     "data": {
      "image/png": "[encoded data removed]",
      "text/plain": [
       "<matplotlib.figure.Figure at 0x23badea17b8>"
      ]
     },
     "metadata": {},
     "output_type": "display_data"
    },
    {
     "name": "stdout",
     "output_type": "stream",
     "text": [
      "The accuracy score for the Logistic Regression classifier is 0.892255892256\n",
      "\n",
      "A detailed classification report for Logistic Regression with C = 5:\n",
      "\n",
      "             precision    recall  f1-score   support\n",
      "\n",
      "          0       0.96      0.93      0.94        27\n",
      "          1       0.87      0.84      0.85        31\n",
      "          2       1.00      1.00      1.00        27\n",
      "          3       0.81      0.73      0.77        30\n",
      "          4       0.94      0.91      0.92        33\n",
      "          5       0.91      0.97      0.94        30\n",
      "          6       0.94      1.00      0.97        30\n",
      "          7       0.90      0.87      0.88        30\n",
      "          8       0.74      0.89      0.81        28\n",
      "          9       0.89      0.81      0.85        31\n",
      "\n",
      "avg / total       0.89      0.89      0.89       297\n",
      "\n"
     ]
    }
   ],
   "source": [
    "# Optimize the parameter C for Logistic Regression\n",
    "\n",
    "# Specify a set of parameters for C (inverse of regularization strength) that will be tested in GridSearchCV\n",
    "param_grid_regularization = [{'C': [0.01, 0.1, 0.5, 1, 3, 5, 7, 10, 50, 100, 1000]}]\n",
    "\n",
    "\n",
    "optimized_regularization, predictions_lr = predict_and_plot(LogisticRegression(), \"Logistic Regression\", 'C', param_grid_regularization, \n",
    "                 X_train_mnist, y_train_mnist, X_test_mnist, y_test_mnist, target_names)\n"
   ]
  },
  {
   "cell_type": "markdown",
   "metadata": {},
   "source": [
    "<p>From the figure Logistic Regression it becomes clear that for values of C larger than 5, a larger value for C (meaning a small lambda value) causes a lower cv score. This is because the regularization has less and less influence and this causes the overfitting problem to increase. However, for C values from 5 down to 0, there is a much steeper decrease of the cv score, caused by underfitting: the decreasing value for C (meaning an increasing lambda value) causes the function to look more and more like a straight line, which meanse there will be underfitting and poor predictions. </p>"
   ]
  },
  {
   "cell_type": "code",
   "execution_count": 186,
   "metadata": {},
   "outputs": [
    {
     "data": {
      "image/png": "[encoded data removed]",
      "text/plain": [
       "<matplotlib.figure.Figure at 0x23bb00d38d0>"
      ]
     },
     "metadata": {},
     "output_type": "display_data"
    },
    {
     "name": "stdout",
     "output_type": "stream",
     "text": [
      "The accuracy score for the K Nearest Neighbors classifier is 0.925925925926\n",
      "\n",
      "A detailed classification report for K Nearest Neighbors with n_neighbors = 3:\n",
      "\n",
      "             precision    recall  f1-score   support\n",
      "\n",
      "          0       1.00      1.00      1.00        27\n",
      "          1       0.94      1.00      0.97        31\n",
      "          2       0.89      0.89      0.89        27\n",
      "          3       0.92      0.80      0.86        30\n",
      "          4       1.00      0.85      0.92        33\n",
      "          5       0.91      1.00      0.95        30\n",
      "          6       0.91      1.00      0.95        30\n",
      "          7       0.91      0.97      0.94        30\n",
      "          8       0.93      0.89      0.91        28\n",
      "          9       0.87      0.87      0.87        31\n",
      "\n",
      "avg / total       0.93      0.93      0.92       297\n",
      "\n"
     ]
    }
   ],
   "source": [
    "# Optimize the parameter K for K Nearest Neighbors\n",
    "\n",
    "# Specify a set of parameters for K (number of neighbors) that will be tested in GridSearchCV\n",
    "param_grid_k = [{'n_neighbors': [2, 3, 4, 5, 6, 7, 8, 9, 11, 13, 15]}]\n",
    "\n",
    "optimized_k, predictions_nn = predict_and_plot(KNeighborsClassifier(), \"K Nearest Neighbors\", 'n_neighbors', param_grid_k, \n",
    "                 X_train_mnist, y_train_mnist, X_test_mnist, y_test_mnist, target_names)\n"
   ]
  },
  {
   "cell_type": "markdown",
   "metadata": {},
   "source": [
    "<p> The reason that k = 1 is not included in the GridSearchCV parameters is that it always came out as the best value for k, even though its performance on the test set was not good. In the gridsearch.cv_results_ it was shown that during the cross validation, k = 1 always predicted with 100% accuracy. It is clear that this means that the cross validation was not done correctly and that the point in the cv set was also present in the training set. This way the nearest neighbor is the point itself and so it always predicts the correct class. However, I could not find out why this was the case: the GridSearchCV with cv=10 as argument should mean that it uses the 10 fold cross validation method, meaning that the training set of 1500 training examples is split into 10 parts and then each part consecutively becomes the cross validation set, while the 9 other parts serve as the training set. This means that for each run of 10 fold cross validation, there is no overlap between the training set and the cross validation set. Therefore I cannot explain the 100% prediction that was shown in the gridsearch.cv_results_. \n",
    "<br><br>\n",
    "\n",
    "It is clear that, interestingly enough, the k nearest neighbors classifier with k = 3 performs much better on the MNIST dataset than the logistic regression classifier. The accuracy, precision, recall and f1 score are all significantly higher for the k nearest neighbor classifier.\n",
    "</p> "
   ]
  },
  {
   "cell_type": "code",
   "execution_count": 187,
   "metadata": {},
   "outputs": [
    {
     "name": "stdout",
     "output_type": "stream",
     "text": [
      "For Linear Regression, using C = 5: \n",
      "Accuracy: 0.9475, Standard Deviation: 0.01826 \n",
      "\n",
      "For K Nearest Neighbors, using K = 3: \n",
      "Accuracy: 0.9615, Standard Deviation: 0.02252\n"
     ]
    }
   ],
   "source": [
    "# Report the 10 fold cross validation scores for the optimized parameters\n",
    "crossval_accuracy_lr = cross_val_score(LogisticRegression(C=optimized_regularization), X_train_mnist, y_train_mnist, cv=10)\n",
    "print('For Linear Regression, using C = {:d}: \\nAccuracy: {:6.4f}, Standard Deviation: {:7.5f} \\n'.format(OptimizedRegularization, crossval_accuracy_lr.mean(), crossval_accuracy_lr.std()))\n",
    "\n",
    "crossval_accuracy_nn = cross_val_score(KNeighborsClassifier(n_neighbors=optimized_k), X_train_mnist, y_train_mnist, cv=10)\n",
    "print('For K Nearest Neighbors, using K = {:d}: \\nAccuracy: {:6.4f}, Standard Deviation: {:7.5f}'.format(OptimizedK, crossval_accuracy_nn.mean(), crossval_accuracy_nn.std()))\n"
   ]
  },
  {
   "cell_type": "markdown",
   "metadata": {},
   "source": [
    "\n",
    "<p> These 10 fold cross validation scores where calculated in addition to the scores from GridSearchCV and I decided to leave them in the notebook because I think it's interesting to see that the scores that these different functions produce differ quite a lot. Also, it is clear that the optimization of the regularization term and the k has hardly influenced the accuracy of the classifiers. It seems that the default values for the classifiers are well chosen and do not differ much from the optimal values.</p>"
   ]
  },
  {
   "cell_type": "code",
   "execution_count": 188,
   "metadata": {},
   "outputs": [
    {
     "name": "stdout",
     "output_type": "stream",
     "text": [
      "Logistic Regression\n",
      "[[25  0  0  0  0  0  2  0  0  0]\n",
      " [ 0 26  0  2  0  0  0  0  3  0]\n",
      " [ 0  0 27  0  0  0  0  0  0  0]\n",
      " [ 0  0  0 22  0  2  0  2  4  0]\n",
      " [ 0  0  0  0 30  0  0  0  0  3]\n",
      " [ 0  1  0  0  0 29  0  0  0  0]\n",
      " [ 0  0  0  0  0  0 30  0  0  0]\n",
      " [ 0  0  0  0  2  0  0 26  2  0]\n",
      " [ 0  2  0  1  0  0  0  0 25  0]\n",
      " [ 1  1  0  2  0  1  0  1  0 25]]\n",
      "\n",
      "K Nearest Neighbors\n",
      "[[27  0  0  0  0  0  0  0  0  0]\n",
      " [ 0 31  0  0  0  0  0  0  0  0]\n",
      " [ 0  0 24  0  0  0  3  0  0  0]\n",
      " [ 0  0  2 24  0  1  0  1  1  1]\n",
      " [ 0  1  0  0 28  0  0  1  1  2]\n",
      " [ 0  0  0  0  0 30  0  0  0  0]\n",
      " [ 0  0  0  0  0  0 30  0  0  0]\n",
      " [ 0  0  1  0  0  0  0 29  0  0]\n",
      " [ 0  1  0  1  0  0  0  0 25  1]\n",
      " [ 0  0  0  1  0  2  0  1  0 27]]\n"
     ]
    }
   ],
   "source": [
    "# Confusion matrices\n",
    "conf_matrix_lr = confusion_matrix(y_test_mnist, predictions_lr)\n",
    "print(\"Logistic Regression\")\n",
    "print(conf_matrix_lr)\n",
    "\n",
    "conf_matrix_nn = confusion_matrix(y_test_mnist, predictions_nn)\n",
    "print(\"\\nK Nearest Neighbors\")\n",
    "print(conf_matrix_nn)"
   ]
  },
  {
   "cell_type": "markdown",
   "metadata": {},
   "source": [
    "<p>In the confusion matrices, it is displayed which classes were predicted how many times. The numbers on the diagonal represent the correct classifications, while all other numbers on a row represent misclassifications. Element ${E}_{3, 8}$ which equals 4 in the Logistic Regression confusion matrix, means that the number '3' was incorrectly predicted to be an '8' 4 times by the Logistic Regression classifier.\n",
    "<br><br>\n",
    "We can see that for logistic regression, the numbers '1', '3', '4', '7', '8' and '9' were more difficult to predict, while for the k nearest neighbors classifier, the numbers '2', '3', '4', '8' and '9' were difficult to predict. It is interesting to see that the number '2' was correctly predicted by logistic regression all the times, while the k nearest neighbor classifier incorrectly classified this as a '6' three times. Also '1' was misclassified 5 times by logistic regression, but 0 times by k nearest neighbors. Especially '3' and '9' were very difficult to predict for both classifiers. The classifiers show some similarities, but also some very different results.</p>"
   ]
  },
  {
   "cell_type": "markdown",
   "metadata": {},
   "source": [
    "<h2> BONUS </h2>"
   ]
  },
  {
   "cell_type": "code",
   "execution_count": 189,
   "metadata": {},
   "outputs": [
    {
     "data": {
      "image/png": "[encoded data removed]",
      "text/plain": [
       "<matplotlib.figure.Figure at 0x23badd9b4a8>"
      ]
     },
     "metadata": {},
     "output_type": "display_data"
    },
    {
     "name": "stdout",
     "output_type": "stream",
     "text": [
      "The accuracy score for the Neural Network classifier is 0.925925925926\n",
      "\n",
      "A detailed classification report for Neural Network with hidden_layer_sizes = (1024,):\n",
      "\n",
      "             precision    recall  f1-score   support\n",
      "\n",
      "          0       1.00      0.93      0.96        27\n",
      "          1       0.94      1.00      0.97        31\n",
      "          2       1.00      1.00      1.00        27\n",
      "          3       0.92      0.77      0.84        30\n",
      "          4       0.97      0.91      0.94        33\n",
      "          5       0.83      1.00      0.91        30\n",
      "          6       0.97      0.97      0.97        30\n",
      "          7       0.93      0.90      0.92        30\n",
      "          8       0.87      0.93      0.90        28\n",
      "          9       0.87      0.87      0.87        31\n",
      "\n",
      "avg / total       0.93      0.93      0.93       297\n",
      "\n"
     ]
    }
   ],
   "source": [
    "# Neural Network\n",
    "\n",
    "# Specify a set of parameters for hidden_layer_sizes that will be tested in GridSearchCV\n",
    "param_grid_neuraln = [{'hidden_layer_sizes': [(1,), (4,), (16,), (64,), (256,), (1024,)]}]\n",
    "\n",
    "optimized_hidden_layers, predictions_neuraln = predict_and_plot(MLPClassifier(max_iter=400, tol=0.001), \n",
    "                                                                \"Neural Network\", 'hidden_layer_sizes', param_grid_neuraln, \n",
    "                                                                X_train_mnist, y_train_mnist, X_test_mnist, y_test_mnist, target_names)\n"
   ]
  },
  {
   "cell_type": "markdown",
   "metadata": {},
   "source": [
    "<p>From the figure 'Neural Network' it becomes clear that the neural network will produce better predictions as the number of neurons in the hidden layers increase. This makes sense, because a more complex neural network is generally capable of making better predictions. It is interesting to see, however, that it does not perform as well as a simple classifier like k nearest neighbors</p>"
   ]
  },
  {
   "cell_type": "code",
   "execution_count": 190,
   "metadata": {},
   "outputs": [
    {
     "data": {
      "image/png": "[encoded data removed]",
      "text/plain": [
       "<matplotlib.figure.Figure at 0x23bb4da7748>"
      ]
     },
     "metadata": {},
     "output_type": "display_data"
    },
    {
     "name": "stdout",
     "output_type": "stream",
     "text": [
      "The accuracy score for the Decision Tree classifier is 0.710437710438\n",
      "\n",
      "A detailed classification report for Decision Tree with max_depth = 50:\n",
      "\n",
      "             precision    recall  f1-score   support\n",
      "\n",
      "          0       0.96      0.96      0.96        27\n",
      "          1       0.70      0.23      0.34        31\n",
      "          2       0.68      0.78      0.72        27\n",
      "          3       0.55      0.53      0.54        30\n",
      "          4       0.85      0.88      0.87        33\n",
      "          5       0.61      0.83      0.70        30\n",
      "          6       0.84      0.87      0.85        30\n",
      "          7       0.78      0.60      0.68        30\n",
      "          8       0.46      0.64      0.54        28\n",
      "          9       0.78      0.81      0.79        31\n",
      "\n",
      "avg / total       0.72      0.71      0.70       297\n",
      "\n"
     ]
    }
   ],
   "source": [
    "# Decision Tree\n",
    "\n",
    "param_grid_dectree = [{'max_depth': [None, 5, 10, 20, 30, 40, 50, 80, 120, 160]}]\n",
    "\n",
    "optimized_max_depth, predictions_dectree = predict_and_plot(DecisionTreeClassifier(), \"Decision Tree\", 'max_depth', \n",
    "                                                            param_grid_dectree, X_train_mnist, y_train_mnist, \n",
    "                                                            X_test_mnist, y_test_mnist, target_names)\n"
   ]
  },
  {
   "cell_type": "markdown",
   "metadata": {},
   "source": [
    "<p> I do not know why the decision tree classifier performs quite poorly on the mnist dataset, but it performs very well on the iris dataset. The predict_and_plot function does not return a consistent value for max_depth for the mnist dataset, so the dataset might simply be too complicated for the decision tree classifier. However, there might also be something wrong with the GridSearchCV, but I cannot figure out what this would be. </p>  "
   ]
  },
  {
   "cell_type": "code",
   "execution_count": 191,
   "metadata": {},
   "outputs": [
    {
     "name": "stdout",
     "output_type": "stream",
     "text": [
      "0.79797979798\n",
      "             precision    recall  f1-score   support\n",
      "\n",
      "          0       0.96      0.96      0.96        27\n",
      "          1       0.69      0.87      0.77        31\n",
      "          2       0.95      0.70      0.81        27\n",
      "          3       1.00      0.47      0.64        30\n",
      "          4       0.96      0.82      0.89        33\n",
      "          5       0.78      0.93      0.85        30\n",
      "          6       0.97      0.97      0.97        30\n",
      "          7       0.59      0.87      0.70        30\n",
      "          8       0.56      0.71      0.63        28\n",
      "          9       0.91      0.68      0.78        31\n",
      "\n",
      "avg / total       0.84      0.80      0.80       297\n",
      "\n"
     ]
    }
   ],
   "source": [
    "# Naive Bayes\n",
    "predictions_nb = GaussianNB().fit(X_train_mnist_nn, y_train_mnist).predict(X_test_mnist_nn)\n",
    "print(accuracy_score(y_test_mnist, predictions_nb))\n",
    "print(classification_report(y_test_mnist, predictions_nb))"
   ]
  },
  {
   "cell_type": "markdown",
   "metadata": {},
   "source": [
    "<p> The Naive Bayes classifier showed very bad performance when used on the normalized MNIST data. The strange thing is that it works very well on the normalized iris data. I decided to keep both the normalized and the original MNIST data, in order to be able to use the naive bayes classifier with the original data, on which its performance is quite reasonable. </p> "
   ]
  },
  {
   "cell_type": "markdown",
   "metadata": {},
   "source": [
    "<h2> THE IRIS DATASET </h2>"
   ]
  },
  {
   "cell_type": "code",
   "execution_count": 192,
   "metadata": {},
   "outputs": [],
   "source": [
    "# Load Iris dataset.\n",
    "iris = datasets.load_iris()\n",
    "X = iris.data \n",
    "y = iris.target\n",
    "\n",
    "# Normalize Data\n",
    "scaler.fit(X)\n",
    "X = scaler.transform(X)\n",
    "\n",
    "# Split in train and test set\n",
    "X_train, X_test, y_train, y_test = train_test_split(X, y)\n",
    "\n",
    "# Set the names for the classes\n",
    "targets_iris = ['0', '1', '2']"
   ]
  },
  {
   "cell_type": "code",
   "execution_count": 193,
   "metadata": {},
   "outputs": [
    {
     "data": {
      "image/png": "[encoded data removed]",
      "text/plain": [
       "<matplotlib.figure.Figure at 0x23badedaa20>"
      ]
     },
     "metadata": {},
     "output_type": "display_data"
    },
    {
     "name": "stdout",
     "output_type": "stream",
     "text": [
      "The accuracy score for the Logistic Regression classifier is 1.0\n",
      "\n",
      "A detailed classification report for Logistic Regression with C = 1000:\n",
      "\n",
      "             precision    recall  f1-score   support\n",
      "\n",
      "          0       1.00      1.00      1.00        14\n",
      "          1       1.00      1.00      1.00        10\n",
      "          2       1.00      1.00      1.00        14\n",
      "\n",
      "avg / total       1.00      1.00      1.00        38\n",
      "\n"
     ]
    }
   ],
   "source": [
    "# Logistic Regression\n",
    "# Optimize the parameter C for Logistic Regression\n",
    "\n",
    "# Specify a set of parameters for C (inverse of regularization strength) that will be tested in GridSearchCV\n",
    "param_grid_regularization = [{'C': [0.01, 0.1, 0.5, 1, 3, 5, 7, 10, 50, 100, 1000]}]\n",
    "\n",
    "\n",
    "optimized_regularization, predictions_lr = predict_and_plot(LogisticRegression(), \"Logistic Regression\", 'C', param_grid_regularization, \n",
    "                 X_train, y_train, X_test, y_test, targets_iris)\n"
   ]
  },
  {
   "cell_type": "markdown",
   "metadata": {},
   "source": [
    "<p>It is interesting to see that in figure 'Logistic Regression', the cv score keeps increasing while c increases (and so lambda decreases). This means that even though the regularization is becoming less powerful, the classifier still does not suffer from overfitting and its perfomance even becomes better. Apparently overfitting was not a problem for this particular classifier. </p>"
   ]
  },
  {
   "cell_type": "code",
   "execution_count": 194,
   "metadata": {},
   "outputs": [
    {
     "data": {
      "image/png": "[encoded data removed]",
      "text/plain": [
       "<matplotlib.figure.Figure at 0x23badd94128>"
      ]
     },
     "metadata": {},
     "output_type": "display_data"
    },
    {
     "name": "stdout",
     "output_type": "stream",
     "text": [
      "The accuracy score for the K Nearest Neighbors classifier is 0.947368421053\n",
      "\n",
      "A detailed classification report for K Nearest Neighbors with n_neighbors = 5:\n",
      "\n",
      "             precision    recall  f1-score   support\n",
      "\n",
      "          0       1.00      1.00      1.00        14\n",
      "          1       0.90      0.90      0.90        10\n",
      "          2       0.93      0.93      0.93        14\n",
      "\n",
      "avg / total       0.95      0.95      0.95        38\n",
      "\n"
     ]
    }
   ],
   "source": [
    "# K Nearest Neighbors\n",
    "\n",
    "# Specify a set of parameters for K (number of neighbors) that will be tested in GridSearchCV\n",
    "param_grid_k = [{'n_neighbors': [2, 3, 4, 5, 6, 7, 8, 9, 11, 13, 15]}]\n",
    "\n",
    "optimized_k, predictions_nn = predict_and_plot(KNeighborsClassifier(), \"K Nearest Neighbors\", 'n_neighbors', param_grid_k, \n",
    "                 X_train, y_train, X_test, y_test, targets_iris)"
   ]
  },
  {
   "cell_type": "markdown",
   "metadata": {},
   "source": [
    "<p>This 'K Nearest Neighbors' classifier performs very well on the iris dataset </p>"
   ]
  },
  {
   "cell_type": "code",
   "execution_count": 195,
   "metadata": {},
   "outputs": [
    {
     "data": {
      "image/png": "[encoded data removed]",
      "text/plain": [
       "<matplotlib.figure.Figure at 0x23bb4e687b8>"
      ]
     },
     "metadata": {},
     "output_type": "display_data"
    },
    {
     "name": "stdout",
     "output_type": "stream",
     "text": [
      "The accuracy score for the Neural Network classifier is 1.0\n",
      "\n",
      "A detailed classification report for Neural Network with hidden_layer_sizes = (1024,):\n",
      "\n",
      "             precision    recall  f1-score   support\n",
      "\n",
      "          0       1.00      1.00      1.00        14\n",
      "          1       1.00      1.00      1.00        10\n",
      "          2       1.00      1.00      1.00        14\n",
      "\n",
      "avg / total       1.00      1.00      1.00        38\n",
      "\n"
     ]
    }
   ],
   "source": [
    "# Neural Network\n",
    "\n",
    "# Specify a set of parameters for hidden_layer_sizes that will be tested in GridSearchCV\n",
    "param_grid_neuraln = [{'hidden_layer_sizes': [(1,), (4,), (16,), (64,), (256,), (1024,)]}]\n",
    "\n",
    "optimized_hidden_layers, predictions_neuraln = predict_and_plot(MLPClassifier(max_iter=500, tol=0.005), \n",
    "                                                                \"Neural Network\", 'hidden_layer_sizes', param_grid_neuraln, \n",
    "                                                                X_train, y_train, X_test, y_test, targets_iris)\n"
   ]
  },
  {
   "cell_type": "markdown",
   "metadata": {},
   "source": [
    "<p>In this neural network we can see the same pattern as in the neural network for the MNIST dataset: The more neurons there are in the network's hidden layers (so the more complex the network becomes), the better it predicts the class of a test example.</p>"
   ]
  },
  {
   "cell_type": "code",
   "execution_count": 196,
   "metadata": {},
   "outputs": [
    {
     "data": {
      "image/png": "[encoded data removed]",
      "text/plain": [
       "<matplotlib.figure.Figure at 0x23bb4e42630>"
      ]
     },
     "metadata": {},
     "output_type": "display_data"
    },
    {
     "name": "stdout",
     "output_type": "stream",
     "text": [
      "The accuracy score for the Decision Tree classifier is 0.921052631579\n",
      "\n",
      "A detailed classification report for Decision Tree with max_depth = 5:\n",
      "\n",
      "             precision    recall  f1-score   support\n",
      "\n",
      "          0       1.00      1.00      1.00        14\n",
      "          1       0.82      0.90      0.86        10\n",
      "          2       0.92      0.86      0.89        14\n",
      "\n",
      "avg / total       0.92      0.92      0.92        38\n",
      "\n"
     ]
    }
   ],
   "source": [
    "# Decision Tree\n",
    "\n",
    "param_grid_dectree = [{'max_depth': [None, 5, 10, 20, 30, 40, 50, 80, 120, 160]}]\n",
    "\n",
    "optimized_max_depth, predictions_dectree = predict_and_plot(DecisionTreeClassifier(), \"Decision Tree\", 'max_depth', \n",
    "                                                            param_grid_dectree, X_train, y_train, \n",
    "                                                            X_test, y_test, targets_iris)"
   ]
  },
  {
   "cell_type": "markdown",
   "metadata": {},
   "source": [
    "<p>In contrast to the decision tree for the MNIST dataset, this decision tree for the iris dataset performs very well. The maximum depth of the decision tree is not very important for its performance, because even though the figure 'Decision Tree' above looks quite jagged, the range of the cv score is not very large.</p>"
   ]
  },
  {
   "cell_type": "code",
   "execution_count": 197,
   "metadata": {},
   "outputs": [
    {
     "name": "stdout",
     "output_type": "stream",
     "text": [
      "1.0\n",
      "             precision    recall  f1-score   support\n",
      "\n",
      "          0       1.00      1.00      1.00        14\n",
      "          1       1.00      1.00      1.00        10\n",
      "          2       1.00      1.00      1.00        14\n",
      "\n",
      "avg / total       1.00      1.00      1.00        38\n",
      "\n"
     ]
    }
   ],
   "source": [
    "# Naive Bayes\n",
    "\n",
    "iris_predictions_nb = GaussianNB().fit(X_train, y_train).predict(X_test)\n",
    "print(accuracy_score(y_test, iris_predictions_nb))\n",
    "print(classification_report(y_test, iris_predictions_nb))"
   ]
  },
  {
   "cell_type": "markdown",
   "metadata": {},
   "source": [
    "<p>Also for the naive bayes classifier the performance is much better on the iris dataset than on the MNIST dataset.</p>"
   ]
  }
 ],
 "metadata": {
  "kernelspec": {
   "display_name": "Python 3",
   "language": "python",
   "name": "python3"
  },
  "language_info": {
   "codemirror_mode": {
    "name": "ipython",
    "version": 3
   },
   "file_extension": ".py",
   "mimetype": "text/x-python",
   "name": "python",
   "nbconvert_exporter": "python",
   "pygments_lexer": "ipython3",
   "version": "3.6.1"
  }
 },
 "nbformat": 4,
 "nbformat_minor": 2
}
